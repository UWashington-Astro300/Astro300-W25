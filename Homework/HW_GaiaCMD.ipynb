{
 "cells": [
  {
   "cell_type": "markdown",
   "metadata": {},
   "source": [
    "# Gaia Field Stars (CMD)"
   ]
  },
  {
   "cell_type": "code",
   "execution_count": null,
   "metadata": {
    "collapsed": false,
    "jupyter": {
     "outputs_hidden": false
    }
   },
   "outputs": [],
   "source": [
    "import matplotlib.pyplot as plt\n",
    "import numpy as np\n",
    "\n",
    "from astropy.table import QTable\n",
    "from astropy import units as u\n",
    "\n",
    "from matplotlib.patches import Rectangle, Circle, Ellipse, Polygon\n",
    "\n",
    "from astroquery.gaia import Gaia"
   ]
  },
  {
   "cell_type": "markdown",
   "metadata": {},
   "source": [
    "---\n",
    "# Instructions\n",
    "\n",
    "Your first step is to pick a point at high galactic latitude (`b`). The reason for this is that we want to pick a region that has little gas and dust. This gas and dust effects the colors of observed object making them appear more red. We want to avoid this reddening."
   ]
  },
  {
   "cell_type": "markdown",
   "metadata": {},
   "source": [
    "### Enter the coordinates of the center of your field (`l`, `b`).\n",
    "\n",
    "- Use a galactic longitude (`l`) of your choice\n",
    "- Use a galactic latitude (`b`) of greater than 70 deg"
   ]
  },
  {
   "cell_type": "code",
   "execution_count": null,
   "metadata": {},
   "outputs": [],
   "source": [
    "my_object_l = \n",
    "my_object_b = "
   ]
  },
  {
   "cell_type": "markdown",
   "metadata": {},
   "source": [
    "## Get the the Gaia data for your field\n",
    "\n",
    "Create and run a Gaia query to find a **high quality complete representitive sample** of 4000 +/- 200 objects that are brighter than 17th magnutude, have a parallax SNR > 15, and have the bp-rp colors.\n",
    "\n",
    "Adjust the radius of your search circular search window and make sure you are not cutting off any objects. See the `Note on SELECT-ORDER Bias issues` section from the HQ_Gaia notebook.\n",
    "\n",
    "You will want the columns: `source_id, l, b, phot_g_mean_mag, bp_rp, parallax, parallax_over_error`\n",
    "\n",
    "**Don't print out the entire object table!**"
   ]
  },
  {
   "cell_type": "code",
   "execution_count": null,
   "metadata": {},
   "outputs": [],
   "source": []
  },
  {
   "cell_type": "code",
   "execution_count": null,
   "metadata": {},
   "outputs": [],
   "source": []
  },
  {
   "cell_type": "code",
   "execution_count": null,
   "metadata": {},
   "outputs": [],
   "source": []
  },
  {
   "cell_type": "code",
   "execution_count": null,
   "metadata": {},
   "outputs": [],
   "source": []
  },
  {
   "cell_type": "markdown",
   "metadata": {},
   "source": [
    "### How many objects did your query return?"
   ]
  },
  {
   "cell_type": "code",
   "execution_count": null,
   "metadata": {},
   "outputs": [],
   "source": []
  },
  {
   "cell_type": "markdown",
   "metadata": {},
   "source": [
    "### Use `parallax` and `phot_g_mean_mag` to get **distance** (in pc) and the **absolute magnitude** ($G_{M}$)\n",
    "\n",
    "- Add them as columns to the data table"
   ]
  },
  {
   "cell_type": "code",
   "execution_count": null,
   "metadata": {},
   "outputs": [],
   "source": []
  },
  {
   "cell_type": "code",
   "execution_count": null,
   "metadata": {},
   "outputs": [],
   "source": []
  },
  {
   "cell_type": "markdown",
   "metadata": {},
   "source": [
    "---\n",
    "\n",
    "## Make a subset of all of the *white dwarf* stars in your field\n",
    "\n",
    "- ### You will need information from the CMD on the back your [Gaia Info Sheet](../Info/GaiaInfo.pdf).\n",
    "- ### You will need to make a cut based on the color (`bp_rp`) and Absolute magnitude (G$_M$)"
   ]
  },
  {
   "cell_type": "code",
   "execution_count": null,
   "metadata": {},
   "outputs": [],
   "source": []
  },
  {
   "cell_type": "code",
   "execution_count": null,
   "metadata": {},
   "outputs": [],
   "source": []
  },
  {
   "cell_type": "markdown",
   "metadata": {},
   "source": [
    "### How many of your objects are white dwarf stars?"
   ]
  },
  {
   "cell_type": "code",
   "execution_count": null,
   "metadata": {},
   "outputs": [],
   "source": []
  },
  {
   "cell_type": "markdown",
   "metadata": {},
   "source": [
    "---\n",
    "## Make a subset of the 100 nearest stars"
   ]
  },
  {
   "cell_type": "code",
   "execution_count": null,
   "metadata": {},
   "outputs": [],
   "source": []
  },
  {
   "cell_type": "markdown",
   "metadata": {},
   "source": [
    "---\n",
    "## Make a subset of the 100 most distant stars"
   ]
  },
  {
   "cell_type": "code",
   "execution_count": null,
   "metadata": {},
   "outputs": [],
   "source": []
  },
  {
   "cell_type": "markdown",
   "metadata": {
    "tags": []
   },
   "source": [
    "---\n",
    "\n",
    "# Make an annotated color magnitude diagram (BP-RP vs. $G_{M}$) of your field.\n",
    "\n",
    "- A figure size of 15 in x 15 in\n",
    "- Both axes labeled\n",
    "- A title for the figure\n",
    "- A symbol and label placed at the position of the Sun (**BP-RP** = 0.82, $G_{M}$ = 4.67)\n",
    "- White dwarf stars plotted with a different symbol, color, and size\n",
    "- 100 nearest stars plotted with a different symbol, color, and size\n",
    "- 100 most distant stars plotted with a different symbol, color, and size\n",
    "- **Use annotations (arrows, shapes, text) to make everything clear**"
   ]
  },
  {
   "cell_type": "code",
   "execution_count": null,
   "metadata": {},
   "outputs": [],
   "source": []
  },
  {
   "cell_type": "markdown",
   "metadata": {},
   "source": [
    "---\n",
    "\n",
    "### Save and download a PNG version of your figure. You will need this for the final assignment of the class.\n",
    "\n",
    "- Feel free to change the name of the file if you wish."
   ]
  },
  {
   "cell_type": "code",
   "execution_count": null,
   "metadata": {},
   "outputs": [],
   "source": [
    "fig.savefig('My_Cool_Plot.png', bbox_inches='tight')"
   ]
  },
  {
   "cell_type": "markdown",
   "metadata": {},
   "source": [
    "### Due Mon Feb 10 - 1 pm\n",
    "- `File -> Download as -> HTML (.html)`\n",
    "- `upload your .html file to the class Canvas page`"
   ]
  }
 ],
 "metadata": {
  "anaconda-cloud": {},
  "kernelspec": {
   "display_name": "Python 3 (ipykernel)",
   "language": "python",
   "name": "python3"
  },
  "language_info": {
   "codemirror_mode": {
    "name": "ipython",
    "version": 3
   },
   "file_extension": ".py",
   "mimetype": "text/x-python",
   "name": "python",
   "nbconvert_exporter": "python",
   "pygments_lexer": "ipython3",
   "version": "3.11.9"
  }
 },
 "nbformat": 4,
 "nbformat_minor": 4
}
