{
 "cells": [
  {
   "cell_type": "markdown",
   "metadata": {},
   "source": [
    "# Python Functions/QTable Homework\n",
    "\n",
    "### For variable/function names, use these guidelines:\n",
    "\n",
    "- use only lowercase letters [a-z] and underscores [ _ ]\n",
    "- no blank spaces between the characters\n",
    "- avoid using a single character as a variable/function name\n",
    "- The purpose of the variable/function should be obvious from its name\n",
    "\n",
    "### All function should be called with keywords. \n",
    "\n",
    "For example:\n",
    "\n",
    "```\n",
    "find_position(\n",
    "    my_velocity = 10.0, \n",
    "    my_time = 10.0\n",
    ")\n",
    "```"
   ]
  },
  {
   "cell_type": "code",
   "execution_count": null,
   "metadata": {
    "collapsed": false,
    "jupyter": {
     "outputs_hidden": false
    }
   },
   "outputs": [],
   "source": [
    "import numpy as np\n",
    "np.set_printoptions(legacy='1.25')\n",
    "\n",
    "from astropy.table import QTable"
   ]
  },
  {
   "cell_type": "markdown",
   "metadata": {},
   "source": [
    "<p>\n",
    "<img  src=\"https://uwashington-astro300.github.io/A300_images/Bilbo.jpg\" width=\"394\"/>\n",
    "<img  src=\"https://uwashington-astro300.github.io/A300_images/Shadowheart.png\" width=\"350\"/>\n",
    "</p>\n",
    "\n",
    "If you have played any type of role playing game (i.e. D&D, Pathfinder, etc), you spend a lot of time rolling a 20-sided dice (d20) trying to get a value greater than some number. The probabilty of being able to do this **on at least one dice** can be expressed as:\n",
    "\n",
    "$$\n",
    "P(d,n,x)\\ =\\  1 - \\left(\\frac{d-(d-x+1)}{d}\\right)^{n} \n",
    "$$\n",
    "\n",
    "Where\n",
    "\n",
    "- **d** is the number of sides of the dice\n",
    "- **n** is the total number of dice\n",
    "- **x** is the value you are trying to match or be greater than\n",
    "\n",
    "Throwing **n** **d**-sides dice is often expressed as **n**d**d** - For example, thowing 6 20-sided die: 6d20"
   ]
  },
  {
   "cell_type": "markdown",
   "metadata": {
    "tags": []
   },
   "source": [
    "### Write a function that computes the probability from the equation above\n",
    "- Don't a single character as a variable/function name"
   ]
  },
  {
   "cell_type": "code",
   "execution_count": null,
   "metadata": {},
   "outputs": [],
   "source": []
  },
  {
   "cell_type": "markdown",
   "metadata": {},
   "source": [
    "#### Use the function to find the probabilty of rolling a 3 or better at least once by thowing 2d6"
   ]
  },
  {
   "cell_type": "code",
   "execution_count": null,
   "metadata": {},
   "outputs": [],
   "source": []
  },
  {
   "cell_type": "markdown",
   "metadata": {},
   "source": [
    "#### Use the function to find the probabilty of rolling a 15 or better at least once by thowing 4d20"
   ]
  },
  {
   "cell_type": "code",
   "execution_count": null,
   "metadata": {},
   "outputs": [],
   "source": []
  },
  {
   "cell_type": "markdown",
   "metadata": {},
   "source": [
    "---"
   ]
  },
  {
   "cell_type": "markdown",
   "metadata": {
    "tags": []
   },
   "source": [
    "### The line below reads in a datafile to the QTable: `star_table`\n",
    "\n",
    "#### The QTable has the following columns:\n",
    "\n",
    "* source_id\n",
    "* phot_g_mean_mag ($m_G$)\n",
    "* parallax (MAS) <- milli arc seconds (p)"
   ]
  },
  {
   "cell_type": "code",
   "execution_count": null,
   "metadata": {
    "collapsed": false,
    "jupyter": {
     "outputs_hidden": false
    }
   },
   "outputs": [],
   "source": [
    "star_table = QTable.read('https://uwashington-astro300.github.io/A300_Data/GaiaBrightStars.csv', \n",
    "                         format='ascii.csv')"
   ]
  },
  {
   "cell_type": "code",
   "execution_count": null,
   "metadata": {
    "collapsed": false,
    "jupyter": {
     "outputs_hidden": false
    }
   },
   "outputs": [],
   "source": [
    "star_table[0:2]  # First 2 rows of the QTable"
   ]
  },
  {
   "cell_type": "markdown",
   "metadata": {},
   "source": [
    "### How many stars are in your table?"
   ]
  },
  {
   "cell_type": "code",
   "execution_count": null,
   "metadata": {
    "collapsed": false,
    "jupyter": {
     "outputs_hidden": false
    }
   },
   "outputs": [],
   "source": []
  },
  {
   "cell_type": "markdown",
   "metadata": {},
   "source": [
    "### Print the table row that contains the brightest object\n",
    "\n",
    "- Remember, magnitudes are backwards!"
   ]
  },
  {
   "cell_type": "code",
   "execution_count": null,
   "metadata": {},
   "outputs": [],
   "source": []
  },
  {
   "cell_type": "markdown",
   "metadata": {},
   "source": [
    "### Write a function to find the distance of an object\n",
    "\n",
    "$$ \\Large\n",
    "\\mathrm{Distance\\ in\\ pc}\\ (d_{\\mathrm{pc}}) = \\frac{1}{\\mathrm{p\\,(mas)} / 1000 }\n",
    "$$"
   ]
  },
  {
   "cell_type": "code",
   "execution_count": null,
   "metadata": {},
   "outputs": [],
   "source": []
  },
  {
   "cell_type": "markdown",
   "metadata": {
    "tags": []
   },
   "source": [
    "### Add a column `distance` to your table that has the distance (in parsecs) for all of the objects"
   ]
  },
  {
   "cell_type": "code",
   "execution_count": null,
   "metadata": {},
   "outputs": [],
   "source": []
  },
  {
   "cell_type": "code",
   "execution_count": null,
   "metadata": {},
   "outputs": [],
   "source": []
  },
  {
   "cell_type": "markdown",
   "metadata": {
    "tags": []
   },
   "source": [
    "### Print the table row that contains the nearest object"
   ]
  },
  {
   "cell_type": "code",
   "execution_count": null,
   "metadata": {
    "tags": []
   },
   "outputs": [],
   "source": []
  },
  {
   "cell_type": "markdown",
   "metadata": {
    "tags": []
   },
   "source": [
    "### Print the table row that contains the farthest object"
   ]
  },
  {
   "cell_type": "code",
   "execution_count": null,
   "metadata": {
    "tags": []
   },
   "outputs": [],
   "source": []
  },
  {
   "cell_type": "markdown",
   "metadata": {
    "tags": []
   },
   "source": [
    "### Due Wed Jan 15 - 1 pm\n",
    "- Rerun your notebook: `Kernel -> Restart Kernal and Run All Cells`\n",
    "- Export notebook as .html: `File -> Save and Export Notebook as -> HTML`\n",
    "- Upload `.html` file to Canvas"
   ]
  },
  {
   "cell_type": "code",
   "execution_count": null,
   "metadata": {},
   "outputs": [],
   "source": []
  }
 ],
 "metadata": {
  "anaconda-cloud": {},
  "kernelspec": {
   "display_name": "Python 3 (ipykernel)",
   "language": "python",
   "name": "python3"
  },
  "language_info": {
   "codemirror_mode": {
    "name": "ipython",
    "version": 3
   },
   "file_extension": ".py",
   "mimetype": "text/x-python",
   "name": "python",
   "nbconvert_exporter": "python",
   "pygments_lexer": "ipython3",
   "version": "3.11.9"
  }
 },
 "nbformat": 4,
 "nbformat_minor": 4
}
