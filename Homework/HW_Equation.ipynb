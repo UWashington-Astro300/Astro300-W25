{
 "cells": [
  {
   "cell_type": "markdown",
   "metadata": {},
   "source": [
    "$\\LaTeX$ Equation\n",
    "====================="
   ]
  },
  {
   "cell_type": "markdown",
   "metadata": {},
   "source": [
    "## Typeset the following equation:\n",
    "\n",
    "<p align=\"center\"> \n",
    "<img src=\"https://uwashington-astro300.github.io/A300_images/Equation_A22.png\" width = \"600\">\n",
    "</p>\n",
    "\n",
    "### Paste the $\\LaTeX$ code into the following two cells and run them"
   ]
  },
  {
   "cell_type": "raw",
   "metadata": {
    "jp-MarkdownHeadingCollapsed": true
   },
   "source": [
    " ↓ Equation Code Here ↓ - Do not include the $$\n",
    "-------------------------------\n",
    "\n",
    "\n",
    "\n",
    "-------------------------------"
   ]
  },
  {
   "cell_type": "markdown",
   "metadata": {},
   "source": [
    "### ↓ Equation Here ↓ - Paste between the `$$`\n",
    "\n",
    "$$ \\Large\n",
    "\n",
    "$$"
   ]
  },
  {
   "cell_type": "markdown",
   "metadata": {},
   "source": [
    "---\n",
    "\n",
    "- ### Go to the [Overleaf](https://www.overleaf.com/login) site and login using your `uw.edu` address.\n",
    "- ### Login using the `Log in with SSO` button.\n",
    "\n",
    "<img src=\"https://uwashington-astro300.github.io/A300_images/Login_overleaf.png\" width = \"400\">\n",
    "\n",
    "- ### If you already have an Overleaf account, no need to do this."
   ]
  },
  {
   "cell_type": "markdown",
   "metadata": {},
   "source": [
    "---\n",
    "### Due Wed Mar 12 - 1 pm\n",
    "- `File -> Download as -> HTML (.html)`\n",
    "- `upload your .html file to the class Canvas page`"
   ]
  },
  {
   "cell_type": "code",
   "execution_count": null,
   "metadata": {},
   "outputs": [],
   "source": []
  }
 ],
 "metadata": {
  "anaconda-cloud": {},
  "kernelspec": {
   "display_name": "Python 3 (ipykernel)",
   "language": "python",
   "name": "python3"
  },
  "language_info": {
   "codemirror_mode": {
    "name": "ipython",
    "version": 3
   },
   "file_extension": ".py",
   "mimetype": "text/x-python",
   "name": "python",
   "nbconvert_exporter": "python",
   "pygments_lexer": "ipython3",
   "version": "3.10.13"
  }
 },
 "nbformat": 4,
 "nbformat_minor": 4
}
