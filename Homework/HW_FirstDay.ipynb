{
 "cells": [
  {
   "cell_type": "markdown",
   "id": "5a4510a0-6471-40f4-a788-eb56256893b3",
   "metadata": {},
   "source": [
    "## Check your assignments for comments! \n",
    "\n",
    "I try to grade assignments as soon I see them on Canvas. If your assignment needs corrections, I will set your score for that assignment to 1, I found that if I did not put in a low score, people ignored the comments. My intention is to give you a chance to correct your assignment. So if you did not get full credit, or have comments, correct and resubmit your assignment. You don't even need to change the name of the submitted file, just resubmit using the same name. Canvas always shows me the latest version.\n",
    "\n",
    "You can resubmit as many times as you want to up until the assignment deadline.\n",
    "\n",
    "This is to encourage you to turn in the assignment early! The sooner you turn the assignment in, the more time you have to make corrections. If you wait until just before the deadline, you will not have an opportunity to improve your score.\n",
    "\n",
    "---"
   ]
  },
  {
   "cell_type": "markdown",
   "id": "2b4e5e1a-ba24-4450-8b57-19c2bb9c485e",
   "metadata": {},
   "source": [
    "## Run the following cell"
   ]
  },
  {
   "cell_type": "code",
   "execution_count": null,
   "id": "5e5beeff-3e46-49ce-8e82-f1123de4bf9e",
   "metadata": {},
   "outputs": [],
   "source": [
    "print('I Ran This Cell')"
   ]
  },
  {
   "cell_type": "markdown",
   "id": "4c721324-3f45-45a1-80f0-483b46cec226",
   "metadata": {},
   "source": [
    "## Turn in your homework\n",
    "\n",
    "### Due Wed Jan 8 - 1 pm\n",
    "\n",
    "- Export notebook as .html: `File -> Save and Export Notebook as -> HTML`\n",
    "- Upload `.html` file to Canvas"
   ]
  },
  {
   "cell_type": "code",
   "execution_count": null,
   "id": "ee9d5704-f9b6-4b80-86a4-c153c3fc9abd",
   "metadata": {},
   "outputs": [],
   "source": []
  }
 ],
 "metadata": {
  "kernelspec": {
   "display_name": "Python 3 (ipykernel)",
   "language": "python",
   "name": "python3"
  },
  "language_info": {
   "codemirror_mode": {
    "name": "ipython",
    "version": 3
   },
   "file_extension": ".py",
   "mimetype": "text/x-python",
   "name": "python",
   "nbconvert_exporter": "python",
   "pygments_lexer": "ipython3",
   "version": "3.11.9"
  }
 },
 "nbformat": 4,
 "nbformat_minor": 5
}
