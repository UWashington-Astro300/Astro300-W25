{
 "cells": [
  {
   "cell_type": "markdown",
   "metadata": {},
   "source": [
    "# GAIA Data - Wow! Signal"
   ]
  },
  {
   "cell_type": "markdown",
   "metadata": {},
   "source": [
    "<p>\n",
    "<img src=\"https://uwashington-astro300.github.io/A300_images/Wow_signal.jpg\" width=\"350\"/>\n",
    "<img src=\"https://uwashington-astro300.github.io/A300_images/The-Big-Ear.gif\" width=\"500\"/>\n",
    "</p>\n",
    "\n",
    "The Wow! signal was a strong narrowband radio signal detected on August 15, 1977, by Ohio State University's Big Ear radio telescope. The signal appeared to show the expected hallmarks of extraterrestrial origin. The entire signal sequence lasted for the full 72-second window during which Big Ear was able to observe it, but has not been detected since.\n",
    "A [recent study](https://www.sciencenews.org/article/wow-signal-not-aliens) suggests that the signal may have been due to a strongly magnetic star (magnetar).\n",
    "\n",
    "The Wow! signal originated at the coordinates: `ra` = 291.79 deg, `dec` = -26.95 deg"
   ]
  },
  {
   "cell_type": "code",
   "execution_count": null,
   "metadata": {},
   "outputs": [],
   "source": [
    "import numpy as np\n",
    "np.set_printoptions(legacy='1.25')\n",
    "\n",
    "from astropy.table import QTable\n",
    "from astroquery.gaia import Gaia"
   ]
  },
  {
   "cell_type": "markdown",
   "metadata": {},
   "source": [
    "### Get a list of  the Gaia objects near the Wow! signal coordinates.\n",
    "\n",
    "### You want ALL objects with \n",
    "\n",
    "- `ra` and `dec` within a circular radius of 1 degree of the Wow! signal coordinates\n",
    "- `phot_g_mean_mag` < 14\n",
    "- `parallax` > 1\n",
    "- `bp_rp` IS NOT NULL\n",
    "- You also want the `source_id` for all objects\n",
    "- Make sure you adjust your `SELECT` to include all objects"
   ]
  },
  {
   "cell_type": "code",
   "execution_count": null,
   "metadata": {},
   "outputs": [],
   "source": []
  },
  {
   "cell_type": "code",
   "execution_count": null,
   "metadata": {},
   "outputs": [],
   "source": []
  },
  {
   "cell_type": "code",
   "execution_count": null,
   "metadata": {},
   "outputs": [],
   "source": []
  },
  {
   "cell_type": "code",
   "execution_count": null,
   "metadata": {},
   "outputs": [],
   "source": []
  },
  {
   "cell_type": "code",
   "execution_count": null,
   "metadata": {},
   "outputs": [],
   "source": []
  },
  {
   "cell_type": "code",
   "execution_count": null,
   "metadata": {},
   "outputs": [],
   "source": []
  },
  {
   "cell_type": "markdown",
   "metadata": {},
   "source": [
    "### Print the table row that contains the brightest object"
   ]
  },
  {
   "cell_type": "code",
   "execution_count": null,
   "metadata": {},
   "outputs": [],
   "source": []
  },
  {
   "cell_type": "code",
   "execution_count": null,
   "metadata": {},
   "outputs": [],
   "source": []
  },
  {
   "cell_type": "markdown",
   "metadata": {},
   "source": [
    "### Write a function to find the distance of an object\n",
    "\n",
    "$$ \\Large\n",
    "\\mathrm{Distance\\ in\\ pc}\\ (d_{\\mathrm{pc}}) = \\frac{1}{\\mathrm{p\\,(mas)} / 1000 }\n",
    "$$"
   ]
  },
  {
   "cell_type": "code",
   "execution_count": null,
   "metadata": {},
   "outputs": [],
   "source": []
  },
  {
   "cell_type": "markdown",
   "metadata": {
    "tags": []
   },
   "source": [
    "### Add a column `distance` to your table that has the distance (in parsecs) for all of the objects"
   ]
  },
  {
   "cell_type": "code",
   "execution_count": null,
   "metadata": {},
   "outputs": [],
   "source": []
  },
  {
   "cell_type": "code",
   "execution_count": null,
   "metadata": {},
   "outputs": [],
   "source": []
  },
  {
   "cell_type": "markdown",
   "metadata": {},
   "source": [
    "### Write a function to find the Absolute G magnitude ($M_{G}$) of an object\n",
    "\n",
    "$$ \\Large\n",
    "{\\displaystyle M_{G} = m_{G} - 5\\log _{10} \\left( \\frac{d_{\\mathrm{pc}}} {10\\, \\mathrm{pc}} \\right)}\n",
    "$$\n",
    "\n",
    "#### $m_{G}$ = `phot_g_mean_mag`"
   ]
  },
  {
   "cell_type": "code",
   "execution_count": null,
   "metadata": {},
   "outputs": [],
   "source": []
  },
  {
   "cell_type": "markdown",
   "metadata": {
    "tags": []
   },
   "source": [
    "### Add a column `Abs G Mag` to your table that has the Absolute G magnitude for all of the objects"
   ]
  },
  {
   "cell_type": "code",
   "execution_count": null,
   "metadata": {},
   "outputs": [],
   "source": []
  },
  {
   "cell_type": "code",
   "execution_count": null,
   "metadata": {
    "tags": []
   },
   "outputs": [],
   "source": []
  },
  {
   "cell_type": "markdown",
   "metadata": {
    "tags": []
   },
   "source": [
    "---\n",
    "\n",
    "### Create a subset of the table that contains the table rows with objects that have:\n",
    "\n",
    "- An Absolute G magnitude *brighter* than 4th magnitude\n",
    "- `BP-RP` color index greater than 1.0\n",
    "- Giant branch stars  "
   ]
  },
  {
   "cell_type": "markdown",
   "metadata": {},
   "source": [
    "- You do not need to a do a new Gaia search, just filter/mask the data from the table you already made.\n",
    "- The `Python_Tables` notebook may be helpful."
   ]
  },
  {
   "cell_type": "code",
   "execution_count": null,
   "metadata": {},
   "outputs": [],
   "source": []
  },
  {
   "cell_type": "markdown",
   "metadata": {
    "tags": []
   },
   "source": [
    "### What fraction of the total WOW! signal objects are Giant branch stars?"
   ]
  },
  {
   "cell_type": "code",
   "execution_count": null,
   "metadata": {},
   "outputs": [],
   "source": []
  },
  {
   "cell_type": "markdown",
   "metadata": {
    "tags": []
   },
   "source": [
    "---\n",
    "\n",
    "### Create a subset of the table that contains the table rows with objects that have:\n",
    "\n",
    "- An Absolute G magnitude between 5th and 11th magnitude\n",
    "- `BP-RP` color index between 1.1 and 2.2\n",
    "- Main sequence K-type stars"
   ]
  },
  {
   "cell_type": "code",
   "execution_count": null,
   "metadata": {},
   "outputs": [],
   "source": []
  },
  {
   "cell_type": "code",
   "execution_count": null,
   "metadata": {
    "tags": []
   },
   "outputs": [],
   "source": []
  },
  {
   "cell_type": "markdown",
   "metadata": {
    "tags": []
   },
   "source": [
    "### What fraction of the total WOW! signal objects are Main sequence K-type stars?"
   ]
  },
  {
   "cell_type": "code",
   "execution_count": null,
   "metadata": {},
   "outputs": [],
   "source": []
  },
  {
   "cell_type": "markdown",
   "metadata": {},
   "source": [
    "### Due Mon Jan 20 - 1 pm\n",
    "- Rerun your notebook: `Kernel -> Restart Kernal and Run All Cells`\n",
    "- `Save notebook as .html: File -> Download as -> HTML`\n",
    "- `Upload .html to Canvas`"
   ]
  },
  {
   "cell_type": "code",
   "execution_count": null,
   "metadata": {},
   "outputs": [],
   "source": []
  }
 ],
 "metadata": {
  "anaconda-cloud": {},
  "kernelspec": {
   "display_name": "Python 3 (ipykernel)",
   "language": "python",
   "name": "python3"
  },
  "language_info": {
   "codemirror_mode": {
    "name": "ipython",
    "version": 3
   },
   "file_extension": ".py",
   "mimetype": "text/x-python",
   "name": "python",
   "nbconvert_exporter": "python",
   "pygments_lexer": "ipython3",
   "version": "3.11.9"
  }
 },
 "nbformat": 4,
 "nbformat_minor": 4
}
