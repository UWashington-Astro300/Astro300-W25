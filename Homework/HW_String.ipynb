{
 "cells": [
  {
   "cell_type": "markdown",
   "metadata": {},
   "source": [
    "# Strings Homework"
   ]
  },
  {
   "cell_type": "markdown",
   "metadata": {},
   "source": [
    "### Copy all of the cells below `Edit -> Copy Cell` and paste them `Edit -> Paste Cell Below` to the end of your `HW_HQGaiaData` homework."
   ]
  },
  {
   "cell_type": "markdown",
   "metadata": {},
   "source": [
    "----\n",
    "### Copy this and all following cells\n",
    "\n",
    "- Use `f-string` formatting to make your output look nice.\n",
    "- **All floats should be printed to one decimal place**.\n",
    "- Your output should **NOT** be all be all on one line that needs to be scrolled through.\n",
    "- Replace the CAP values with data. **DO NOT HARDCODE!!** - use variables.\n",
    "  - Don't do this: `f'The parallax is 100'`\n",
    "  - Don't do this: `f'The parallax is {my_parallax}'` where my_parallax = 100\n",
    "  - DO THIS: `f'The parallax is {my_table['parallax'][0]}'`"
   ]
  },
  {
   "cell_type": "markdown",
   "metadata": {},
   "source": [
    "## Print the following sentences for the high galactic latitude data:"
   ]
  },
  {
   "cell_type": "markdown",
   "metadata": {},
   "source": [
    "`At a galactic latitude of b = LAT, my query returned TOTAL_NUM objects with an average color (bp_rp) of AVE_COLOR +/- STD_COLOR.`"
   ]
  },
  {
   "cell_type": "code",
   "execution_count": null,
   "metadata": {},
   "outputs": [],
   "source": []
  },
  {
   "cell_type": "code",
   "execution_count": null,
   "metadata": {},
   "outputs": [],
   "source": []
  },
  {
   "cell_type": "markdown",
   "metadata": {},
   "source": [
    "`NUMBER_RED of these objects were red giant branch stars, and NUMBER_BLUE of these objects were young blue stars.`"
   ]
  },
  {
   "cell_type": "code",
   "execution_count": null,
   "metadata": {},
   "outputs": [],
   "source": []
  },
  {
   "cell_type": "code",
   "execution_count": null,
   "metadata": {},
   "outputs": [],
   "source": []
  },
  {
   "cell_type": "markdown",
   "metadata": {},
   "source": [
    "`The most luminous red giant had an absolute magnitude of RED_MAG, and the most luminous young blue star had an absolute magnitude of BLUE_MAG.`"
   ]
  },
  {
   "cell_type": "code",
   "execution_count": null,
   "metadata": {},
   "outputs": [],
   "source": []
  },
  {
   "cell_type": "code",
   "execution_count": null,
   "metadata": {},
   "outputs": [],
   "source": []
  },
  {
   "cell_type": "markdown",
   "metadata": {},
   "source": [
    "## Print the following sentences for the low galactic latitude data:"
   ]
  },
  {
   "cell_type": "markdown",
   "metadata": {},
   "source": [
    "`At a galactic latitude of b = LAT, my query returned TOTAL_NUM objects with an average color (bp_rp) of AVE_COLOR +/- STD_COLOR.`"
   ]
  },
  {
   "cell_type": "code",
   "execution_count": null,
   "metadata": {},
   "outputs": [],
   "source": []
  },
  {
   "cell_type": "code",
   "execution_count": null,
   "metadata": {},
   "outputs": [],
   "source": []
  },
  {
   "cell_type": "markdown",
   "metadata": {},
   "source": [
    "`NUMBER_RED of these objects were red giant branch stars, and NUMBER_BLUE of these objects were young blue stars.`"
   ]
  },
  {
   "cell_type": "code",
   "execution_count": null,
   "metadata": {},
   "outputs": [],
   "source": []
  },
  {
   "cell_type": "code",
   "execution_count": null,
   "metadata": {},
   "outputs": [],
   "source": []
  },
  {
   "cell_type": "markdown",
   "metadata": {},
   "source": [
    "`The most luminous red giant had an absolute magnitude of RED_MAG, and the most luminous young blue star had an absolute magnitude of BLUE_MAG.`"
   ]
  },
  {
   "cell_type": "code",
   "execution_count": null,
   "metadata": {},
   "outputs": [],
   "source": []
  },
  {
   "cell_type": "code",
   "execution_count": null,
   "metadata": {},
   "outputs": [],
   "source": []
  },
  {
   "cell_type": "markdown",
   "metadata": {},
   "source": [
    "## And a summary statement:\n",
    "\n",
    "`The high galactic latitude field had a ratio of the number Young Blue stars/Red giant stars of NUMBER, while the low galactic latitude field had a ratio of the number Young Blue stars/Red giant stars of NUMBER`."
   ]
  },
  {
   "cell_type": "code",
   "execution_count": null,
   "metadata": {},
   "outputs": [],
   "source": []
  },
  {
   "cell_type": "markdown",
   "metadata": {},
   "source": [
    "---\n",
    "\n",
    "### Due Wed Jan 29 - 1pm\n",
    "- Rerun your notebook: `Kernel -> Restart Kernal and Run All Cells`\n",
    "- `Save notebook as .html: File -> Download as -> HTML`\n",
    "- `Upload .html to Canvas -> Strings assignment`"
   ]
  }
 ],
 "metadata": {
  "kernelspec": {
   "display_name": "Python 3 (ipykernel)",
   "language": "python",
   "name": "python3"
  },
  "language_info": {
   "codemirror_mode": {
    "name": "ipython",
    "version": 3
   },
   "file_extension": ".py",
   "mimetype": "text/x-python",
   "name": "python",
   "nbconvert_exporter": "python",
   "pygments_lexer": "ipython3",
   "version": "3.11.9"
  }
 },
 "nbformat": 4,
 "nbformat_minor": 4
}
