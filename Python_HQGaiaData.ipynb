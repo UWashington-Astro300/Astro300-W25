{
 "cells": [
  {
   "cell_type": "markdown",
   "id": "600a35e5-140a-46ef-9864-aafb9c065646",
   "metadata": {},
   "source": [
    "# High Quality Gaia Data"
   ]
  },
  {
   "cell_type": "code",
   "execution_count": null,
   "id": "5aef951c-0f1c-46cf-874a-b9cc59cb8113",
   "metadata": {},
   "outputs": [],
   "source": [
    "import numpy as np\n",
    "np.set_printoptions(legacy='1.25')\n",
    "\n",
    "from astropy.table import QTable\n",
    "from astroquery.gaia import Gaia"
   ]
  },
  {
   "cell_type": "markdown",
   "id": "22a6a00c-c54e-43a6-a612-66b48d310b21",
   "metadata": {},
   "source": [
    "### Let's get the data for the 50 brightest stars in the Gaia database."
   ]
  },
  {
   "cell_type": "code",
   "execution_count": null,
   "id": "bc074e43-89cc-4a4f-b964-3501a64f85fe",
   "metadata": {
    "tags": []
   },
   "outputs": [],
   "source": [
    "my_query = \"\"\"\n",
    "SELECT TOP 50\n",
    "source_id, parallax, phot_g_mean_mag\n",
    "FROM gaiadr3.gaia_source_lite\n",
    "WHERE phot_g_mean_mag < 3\n",
    "AND parallax > 0.1\n",
    "ORDER BY phot_g_mean_mag\n",
    "\"\"\""
   ]
  },
  {
   "cell_type": "code",
   "execution_count": null,
   "id": "28452b4f-abbe-4f12-877f-01d679d4f717",
   "metadata": {
    "tags": []
   },
   "outputs": [],
   "source": [
    "print(my_query)"
   ]
  },
  {
   "cell_type": "code",
   "execution_count": null,
   "id": "eb2bca2a-be29-433c-adea-9277ff9e35a9",
   "metadata": {
    "tags": []
   },
   "outputs": [],
   "source": [
    "my_job_query = Gaia.launch_job(my_query)"
   ]
  },
  {
   "cell_type": "code",
   "execution_count": null,
   "id": "953f5884-ad31-4cc6-b6f6-431eeaf1ec36",
   "metadata": {
    "tags": []
   },
   "outputs": [],
   "source": [
    "print(my_job_query)"
   ]
  },
  {
   "cell_type": "code",
   "execution_count": null,
   "id": "f40c0464-3140-4d65-afec-22eb3c73314f",
   "metadata": {
    "tags": []
   },
   "outputs": [],
   "source": [
    "target_table = my_job_query.get_results()"
   ]
  },
  {
   "cell_type": "code",
   "execution_count": null,
   "id": "b6281305-c6a0-4e59-b9ea-7aa9e968cb71",
   "metadata": {
    "tags": []
   },
   "outputs": [],
   "source": [
    "target_table[0:5]"
   ]
  },
  {
   "cell_type": "markdown",
   "id": "c8777953-e05e-4d80-838e-3e0627cd7cab",
   "metadata": {},
   "source": [
    "### Let's find the distance and Absolute magnitues for the objects"
   ]
  },
  {
   "cell_type": "code",
   "execution_count": null,
   "id": "ca3d65e6-ed28-493a-a467-d86a3e2ba32c",
   "metadata": {},
   "outputs": [],
   "source": [
    "def find_distance(my_parallax):\n",
    "    result = 1 / (my_parallax / 1000)\n",
    "    return result\n",
    "    \n",
    "def find_absmag(my_appmag, my_distance):\n",
    "    result = my_appmag - (5 * np.log10(my_distance / 10))\n",
    "    return result"
   ]
  },
  {
   "cell_type": "code",
   "execution_count": null,
   "id": "2bbc88b2-2df0-4df9-aa89-52effe2fc0b4",
   "metadata": {},
   "outputs": [],
   "source": [
    "target_table['Distance'] = find_distance(\n",
    "                               my_parallax = target_table['parallax']\n",
    "                           )"
   ]
  },
  {
   "cell_type": "code",
   "execution_count": null,
   "id": "9c418356-6f72-4a2c-9f96-2761c092d905",
   "metadata": {},
   "outputs": [],
   "source": [
    "target_table['AbsMag'] = find_absmag(\n",
    "                               my_appmag = target_table['phot_g_mean_mag'],\n",
    "                               my_distance = target_table['Distance']\n",
    "                         )"
   ]
  },
  {
   "cell_type": "code",
   "execution_count": null,
   "id": "d6d87957-440c-476a-aedd-32c2ca9053de",
   "metadata": {},
   "outputs": [],
   "source": [
    "target_table[0:5]"
   ]
  },
  {
   "cell_type": "markdown",
   "id": "ce237537-4dba-4371-ba5c-88f568fd2fe2",
   "metadata": {},
   "source": [
    "### Brightest Objest"
   ]
  },
  {
   "cell_type": "code",
   "execution_count": null,
   "id": "78c74480-89e4-4887-85cb-688bc7f16b2e",
   "metadata": {},
   "outputs": [],
   "source": [
    "target_table.sort('AbsMag')"
   ]
  },
  {
   "cell_type": "code",
   "execution_count": null,
   "id": "62b64df7-0bca-441f-9915-c211e45c499d",
   "metadata": {},
   "outputs": [],
   "source": [
    "target_table[0]"
   ]
  },
  {
   "cell_type": "markdown",
   "id": "3bee2aa6-7608-4b89-83f2-5601bec976b9",
   "metadata": {},
   "source": [
    "### This is a crazy value for the Absolute Magnitude! \n",
    "\n",
    "### The most luminous stars in the universe have an absolute magnitude of around -10."
   ]
  },
  {
   "cell_type": "markdown",
   "id": "8b3026e2-2d6b-498f-a48a-3f49964f395d",
   "metadata": {},
   "source": [
    "---\n",
    "\n",
    "## What is wrong with the data?\n",
    "\n",
    "<img src=\"https://uwashington-astro300.github.io/A300_images/data_error.png\" width=\"600\"/>\n",
    "\n",
    "We have only used a small subset of the data available in the `gaia_source_lite` database. \n",
    "\n",
    "Full column list: [gaia_source_lite data columns](https://gaia.aip.de/metadata/gaiadr3/gaia_source_lite/)\n",
    "\n",
    "You can see that there are a number of columns with names like `VALUE_error` and `VALUE_over_error`. These data will allow us to \n",
    "evaluate the quality of the measured data."
   ]
  },
  {
   "cell_type": "markdown",
   "id": "cb1deaae-66a7-4c37-bf64-426190126e8b",
   "metadata": {},
   "source": [
    "## Quality `parallax` data. \n",
    "\n",
    "The uncertainty of parallax measurements can come from many sources. Dim stars are harder to measure than bright stars. It is difficult to measure positions in crowded fields, like near the galactic plane. There are also systematic errors associated with the equipment and the data reduction pipeline. All of these contribute to the `standard error` of the `parallax` measurement.\n",
    "\n",
    "The `parallax` error data are in the columns:\n",
    "\n",
    "```\n",
    "parallax_error          Standard error of parallax\n",
    "parallax_over_error     Parallax divided by its standard error\n",
    "```\n",
    "The `parallax_over_error` column is particularly useful to get high quality parallax data. \n",
    "\n",
    "- It is very common to judge the quality of data by comparing the data (**signal**) to the error in the data (**noise**). \n",
    "- The ratio of the data / error is often called the signal-to-noise ratio (**SNR**). \n",
    "- The SNR for data is often referred to by a lower case sigma (σ)\n",
    "\n",
    "The `parallax_over_error` column is the SNR for the parallax data.\n",
    "\n",
    "What is considered a good SNR really depends on the particular situation. \n",
    "\n",
    "- As a very general rule of thumb is that a SNR of > 10 (10σ) is considered high quality\n",
    "- A SNR of 3 (3σ) is considered \"barely detected\".\n",
    "\n",
    "In stellar spectroscopy\n",
    "\n",
    "- 20σ is considered barely adequate\n",
    "- High quality data is > 100σ"
   ]
  },
  {
   "cell_type": "markdown",
   "id": "a4b26300-24af-4250-9275-320fce80b288",
   "metadata": {},
   "source": [
    "---\n",
    "## Back to our Strange Object\n",
    "\n",
    "Our object with `source_id` = 2202630001603369856 has an absolute magnitude of -12.17.\n",
    "\n",
    "What is going on?"
   ]
  },
  {
   "cell_type": "code",
   "execution_count": null,
   "id": "474a478f-38b1-421e-91e4-4db7ed687fb9",
   "metadata": {
    "tags": []
   },
   "outputs": [],
   "source": [
    "query_strange = \"\"\"\n",
    "SELECT TOP 1\n",
    "source_id, parallax, parallax_error, parallax_over_error\n",
    "FROM gaiadr3.gaia_source_lite\n",
    "WHERE source_id = 2202630001603369856\n",
    "\"\"\""
   ]
  },
  {
   "cell_type": "code",
   "execution_count": null,
   "id": "e13be34a-6d9a-462e-ac94-e0588e998259",
   "metadata": {
    "tags": []
   },
   "outputs": [],
   "source": [
    "my_job_query = Gaia.launch_job(query_strange)"
   ]
  },
  {
   "cell_type": "code",
   "execution_count": null,
   "id": "5e3d7dd7-711c-4bb0-9edd-be7b3894a1c2",
   "metadata": {
    "tags": []
   },
   "outputs": [],
   "source": [
    "my_job_query.get_results()"
   ]
  },
  {
   "cell_type": "markdown",
   "id": "b07b3de5-15fb-4e22-96d5-39fc5d403564",
   "metadata": {},
   "source": [
    "#### That value of `parallax_over_error` is not good ($\\sigma$ = 0.45)!\n",
    "\n",
    "#### The error in the parallax is about 2x the parallax value. "
   ]
  },
  {
   "cell_type": "markdown",
   "id": "079b1328-d67c-455e-bf81-000d3cdac11f",
   "metadata": {},
   "source": [
    "---\n",
    "\n",
    "# Galactic Coordinates\n",
    "\n",
    "A coordinate system based\n",
    "on the plane of the galaxy. It is centred on the Sun,\n",
    "and longitude and latitude 0 point directly towards\n",
    "the centre of the galaxy. Galactic longitude (**l**) is\n",
    "measured with primary direction from the Sun to the\n",
    "center of the galaxy in the galactic plane, while the\n",
    "galactic latitude (**b**) measures the angle of the object\n",
    "above the galactic plane.\n",
    "\n",
    "- Galactic North Pole: b = 90°, l = n/a\n",
    "- Galactic South Pole: b = -90°, l = n/a\n",
    "- Galactic center: b = 0°, l = 0°\n",
    "- Galactic anti-center: b = 0°, l = 180°\n",
    "\n",
    "<p>\n",
    "<img src=\"https://uwashington-astro300.github.io/A300_images/GalLongLat.jpg\" width = \"500\">\n",
    "</p>"
   ]
  },
  {
   "cell_type": "markdown",
   "id": "d717a634-3759-4f58-a12e-0fe497522160",
   "metadata": {},
   "source": [
    "---\n",
    "\n",
    "### What type of object are we looking at that would lead to such an error?\n",
    "\n",
    "We can use the information columns in the Gaia database to see if the object is a quasar, galaxy, or a multiple star.\n",
    "\n",
    "```\n",
    "in_qso_candidates    Flag indicating the availability of additional information in the QsoCandidates table\n",
    "in_galaxy_candidates Flag indicating the availability of additional information in the GalaxyCandidates table\n",
    "non_single_star      Flag indicating the availability of additional information in the various Non-Single Star tables\n",
    "\n",
    "b                    Galactic latitude\n",
    "l                    Galactic longitude\n",
    "```"
   ]
  },
  {
   "cell_type": "code",
   "execution_count": null,
   "id": "3fbd09b8-4415-409a-a773-2fafa87114c4",
   "metadata": {},
   "outputs": [],
   "source": [
    "query_strange_two = \"\"\"\n",
    "SELECT TOP 1\n",
    "source_id, in_qso_candidates, in_galaxy_candidates, non_single_star, b, l\n",
    "FROM gaiadr3.gaia_source_lite\n",
    "WHERE source_id = 2202630001603369856\n",
    "\"\"\""
   ]
  },
  {
   "cell_type": "code",
   "execution_count": null,
   "id": "634ad33f-2d4a-406c-9922-6659b1c7f0b2",
   "metadata": {},
   "outputs": [],
   "source": [
    "my_job_query = Gaia.launch_job(query_strange_two)"
   ]
  },
  {
   "cell_type": "code",
   "execution_count": null,
   "id": "56bf442e-3d55-4059-90e5-f47207dea0c2",
   "metadata": {},
   "outputs": [],
   "source": [
    "my_job_query.get_results()"
   ]
  },
  {
   "cell_type": "markdown",
   "id": "896f2d66-6b85-4d76-b824-2333cc30d6f7",
   "metadata": {},
   "source": [
    "### Seems that it is not a qso or a galaxy, but a single star.\n",
    "\n",
    "### However, it is a single star very close to the galactic plane (b = 4.3°)."
   ]
  },
  {
   "cell_type": "markdown",
   "id": "bac063ad-7181-49b3-96f8-5da7874a57cb",
   "metadata": {},
   "source": [
    "----\n",
    "\n",
    "# SIMBAD - Name resolver\n",
    "\n",
    "The purpose of Simbad is to provide information on astronomical objects of interest which have been studied in scientific articles. It provides the bibliography, as well as available basic information such as the nature of the object. \n",
    "\n",
    "One of Simbad's most useful features is its abilty to resolve the multitude names of objects given in the literature."
   ]
  },
  {
   "cell_type": "code",
   "execution_count": null,
   "id": "cf070728-20c5-4336-807f-70e15c00ad64",
   "metadata": {
    "tags": []
   },
   "outputs": [],
   "source": [
    "from astroquery.simbad import Simbad"
   ]
  },
  {
   "cell_type": "code",
   "execution_count": null,
   "id": "eb61b466-a2aa-4afe-a807-d4aa98b89504",
   "metadata": {
    "tags": []
   },
   "outputs": [],
   "source": [
    "Simbad.query_objectids(\"Gaia DR3 2202630001603369856\")"
   ]
  },
  {
   "cell_type": "code",
   "execution_count": null,
   "id": "43db0b40-1c67-4298-bdf0-e8aa7ad454e5",
   "metadata": {
    "scrolled": true,
    "tags": []
   },
   "outputs": [],
   "source": [
    "Simbad.query_objectids(\"Gaia DR3 2202630001603369856\").show_in_notebook()"
   ]
  },
  {
   "cell_type": "markdown",
   "id": "047b9a98-24e2-484b-8011-ae7bbfb22143",
   "metadata": {
    "tags": []
   },
   "source": [
    "### This is a very well studied bright star! \n",
    "\n",
    "<img src=\"https://uwashington-astro300.github.io/A300_images/MuCeph.png\" width=\"600\"/>\n",
    "\n",
    "\n",
    "[Mu Cephei](https://en.wikipedia.org/wiki/Mu_Cephei) is visually nearly 100,000 times brighter than the Sun, with an absolute visual magnitude of −7.6. It is also one of the largest known stars with a radius around or over 1,000 times that of the sun.\n",
    "\n",
    "It is also located in a region rich in gas and dust.\n",
    "\n",
    "This is exactly the type of object Gaia is NOT designed to study."
   ]
  },
  {
   "cell_type": "markdown",
   "id": "7114fbce-fc5d-4d79-b516-9773cb630a71",
   "metadata": {},
   "source": [
    "---\n",
    "## Note on SELECT-ORDER Bias issues\n",
    "\n",
    "- Let's get some data for 300(ish) objects at the galactic anti-center (**l** = 180°), far above the galactic plane (**b** = +75°) \n",
    "\n"
   ]
  },
  {
   "cell_type": "code",
   "execution_count": null,
   "id": "fbcad556-ab4d-4423-b9bd-858e84e083eb",
   "metadata": {},
   "outputs": [],
   "source": [
    "my_query = \"\"\"\n",
    "SELECT TOP 300\n",
    "source_id, b, l, phot_g_mean_mag \n",
    "FROM gaiadr3.gaia_source_lite\n",
    "WHERE DISTANCE( POINT(180.0, 75.0), POINT(l, b) ) < 1.5\n",
    "AND phot_g_mean_mag  < 15\n",
    "ORDER BY phot_g_mean_mag\n",
    "\"\"\""
   ]
  },
  {
   "cell_type": "code",
   "execution_count": null,
   "id": "58f4b621-27b3-499f-998f-220d7232f816",
   "metadata": {
    "tags": []
   },
   "outputs": [],
   "source": [
    "print(my_query)"
   ]
  },
  {
   "cell_type": "code",
   "execution_count": null,
   "id": "d16f7b45-3038-4c60-88fc-fbc696559b5c",
   "metadata": {
    "tags": []
   },
   "outputs": [],
   "source": [
    "my_job_query = Gaia.launch_job(my_query)"
   ]
  },
  {
   "cell_type": "code",
   "execution_count": null,
   "id": "33204d53-cc82-4706-aa39-39b027084ab0",
   "metadata": {
    "tags": []
   },
   "outputs": [],
   "source": [
    "print(my_job_query)"
   ]
  },
  {
   "cell_type": "code",
   "execution_count": null,
   "id": "58eea217-df01-4f05-9b4b-b7f5d79756d6",
   "metadata": {
    "tags": []
   },
   "outputs": [],
   "source": [
    "target_table = my_job_query.get_results()"
   ]
  },
  {
   "cell_type": "code",
   "execution_count": null,
   "id": "abdc9864-95fa-4294-b726-2775a1b1602e",
   "metadata": {
    "tags": []
   },
   "outputs": [],
   "source": [
    "target_table[0:5]"
   ]
  },
  {
   "cell_type": "code",
   "execution_count": null,
   "id": "e325ecfc-d495-481e-8ecd-e70bbe2de0cb",
   "metadata": {},
   "outputs": [],
   "source": [
    "target_table['phot_g_mean_mag'].info('stats')"
   ]
  },
  {
   "cell_type": "markdown",
   "id": "e056fd1f-0ac9-4a84-b904-9854fc54c17f",
   "metadata": {},
   "source": [
    "This query returned over 1,000 objects. However, since we set the `SELECT` to 300 and `ORDER BY` to magnitudes, we only got the 300 brightest objects in the field. The stats for this field is not representitive of the whole field."
   ]
  },
  {
   "cell_type": "markdown",
   "id": "ff6df809-5644-45a4-9796-ad91aba67479",
   "metadata": {},
   "source": [
    "### A more representitive sample\n",
    "\n",
    "One way to get a more representitive sample, is to decrease the radius of the search until the total number of objects found is less that the value of `SELECT`"
   ]
  },
  {
   "cell_type": "code",
   "execution_count": null,
   "id": "7e57cdfb-3d30-4e61-a8f1-eb3b3c0f8bb6",
   "metadata": {},
   "outputs": [],
   "source": [
    "my_query = \"\"\"\n",
    "SELECT TOP 300\n",
    "source_id, b, l, phot_g_mean_mag \n",
    "FROM gaiadr3.gaia_source_lite\n",
    "WHERE DISTANCE( POINT(180.0, 75.0), POINT(l, b) ) < 0.81\n",
    "AND phot_g_mean_mag  < 15\n",
    "ORDER BY phot_g_mean_mag\n",
    "\"\"\""
   ]
  },
  {
   "cell_type": "code",
   "execution_count": null,
   "id": "8866a07e-85a9-4f10-96ab-8a6b207b7312",
   "metadata": {},
   "outputs": [],
   "source": [
    "my_job_query = Gaia.launch_job(my_query)"
   ]
  },
  {
   "cell_type": "code",
   "execution_count": null,
   "id": "13819b2f-01a9-4fb4-9997-f9c54e8d249f",
   "metadata": {},
   "outputs": [],
   "source": [
    "print(my_job_query)"
   ]
  },
  {
   "cell_type": "code",
   "execution_count": null,
   "id": "026d780f-2280-40f5-a4bf-fa780e54ecb0",
   "metadata": {},
   "outputs": [],
   "source": [
    "target_table = my_job_query.get_results()"
   ]
  },
  {
   "cell_type": "code",
   "execution_count": null,
   "id": "b384bf1e-8b2e-4539-8528-61dbcec68d4f",
   "metadata": {
    "scrolled": true
   },
   "outputs": [],
   "source": [
    "target_table['phot_g_mean_mag'].info('stats')"
   ]
  },
  {
   "cell_type": "markdown",
   "id": "69a1e97e-2825-4f48-b0c9-c17be8a898ab",
   "metadata": {},
   "source": [
    "---\n",
    "Another way is to use the larger search radius, but increase the `SELECT` value until you get all of the objects in the field."
   ]
  },
  {
   "cell_type": "code",
   "execution_count": null,
   "id": "271b1bb8-0fb1-4e83-82d8-d6290a7373d4",
   "metadata": {},
   "outputs": [],
   "source": [
    "my_query = \"\"\"\n",
    "SELECT TOP 2000\n",
    "source_id, b, l, phot_g_mean_mag \n",
    "FROM gaiadr3.gaia_source_lite\n",
    "WHERE DISTANCE( POINT(180.0, 75.0), POINT(l, b) ) < 1.5\n",
    "AND phot_g_mean_mag  < 15\n",
    "ORDER BY phot_g_mean_mag\n",
    "\"\"\""
   ]
  },
  {
   "cell_type": "code",
   "execution_count": null,
   "id": "034c73e6-2352-4bf4-82ce-22d3aaf53b71",
   "metadata": {},
   "outputs": [],
   "source": [
    "my_job_query = Gaia.launch_job(my_query)"
   ]
  },
  {
   "cell_type": "code",
   "execution_count": null,
   "id": "ad7d50a7-dd8d-43eb-b2ff-a58ddeea41a4",
   "metadata": {},
   "outputs": [],
   "source": [
    "print(my_job_query)"
   ]
  },
  {
   "cell_type": "code",
   "execution_count": null,
   "id": "970d9a76-3d4e-4c8a-a7c7-fb180b40003e",
   "metadata": {},
   "outputs": [],
   "source": [
    "target_table = my_job_query.get_results()"
   ]
  },
  {
   "cell_type": "code",
   "execution_count": null,
   "id": "c57d6a4b-7070-4bcb-9659-96ded9e22765",
   "metadata": {
    "scrolled": true
   },
   "outputs": [],
   "source": [
    "target_table['phot_g_mean_mag'].info('stats')"
   ]
  },
  {
   "cell_type": "markdown",
   "id": "4e215387-21ba-412d-b99f-a187ff06486a",
   "metadata": {},
   "source": [
    "### Notice that the stats for the two different techniques are pretty close to each other"
   ]
  },
  {
   "cell_type": "code",
   "execution_count": null,
   "id": "3426c459-accf-489b-865a-3684babfc1e9",
   "metadata": {},
   "outputs": [],
   "source": []
  }
 ],
 "metadata": {
  "kernelspec": {
   "display_name": "Python 3 (ipykernel)",
   "language": "python",
   "name": "python3"
  },
  "language_info": {
   "codemirror_mode": {
    "name": "ipython",
    "version": 3
   },
   "file_extension": ".py",
   "mimetype": "text/x-python",
   "name": "python",
   "nbconvert_exporter": "python",
   "pygments_lexer": "ipython3",
   "version": "3.11.9"
  }
 },
 "nbformat": 4,
 "nbformat_minor": 5
}
