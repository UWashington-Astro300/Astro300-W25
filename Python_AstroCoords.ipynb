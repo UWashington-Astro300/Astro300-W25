{
 "cells": [
  {
   "cell_type": "markdown",
   "metadata": {},
   "source": [
    "# Astronomical Coordinates"
   ]
  },
  {
   "cell_type": "code",
   "execution_count": null,
   "metadata": {
    "collapsed": false,
    "jupyter": {
     "outputs_hidden": false
    },
    "tags": []
   },
   "outputs": [],
   "source": [
    "import matplotlib.pyplot as plt\n",
    "\n",
    "import numpy as np\n",
    "import astropy.units as u\n",
    "\n",
    "from astropy.coordinates import SkyCoord, Distance, Galactic\n",
    "from astroplan.plots import plot_finder_image\n",
    "\n",
    "from astropy.table import QTable\n",
    "from astroquery.gaia import Gaia"
   ]
  },
  {
   "cell_type": "markdown",
   "metadata": {},
   "source": [
    "## International Celestial Reference System (ICRS)\n",
    "\n",
    "- The standard celestial reference system adopted by the International Astronomical Union (IAU). \n",
    "- Its origin is at the barycenter of the Solar System.\n",
    "- The axes are fixed with respect to a set of distant extragalactic objects (mostly quasars).\n",
    "- Sometimes referred to as \"equatorial\" or \"J2000\" coordinates."
   ]
  },
  {
   "cell_type": "markdown",
   "metadata": {},
   "source": [
    "## Declination (DEC or δ)\n",
    "\n",
    "- Equivalent to terrestrial latitude. \n",
    "- Points north of the celestial equator have positive declinations, while those to the south have negative declinations. \n",
    "- Declination is expressed in degrees [°], arc-minutes [ ′ ], and arc-seconds [ ′′ ].\n",
    "- 1° = 60′ = 3600′′\n",
    "\n",
    "#### Example: DEC = +23° 52′ 12.12′′"
   ]
  },
  {
   "cell_type": "markdown",
   "metadata": {
    "tags": []
   },
   "source": [
    "## Right Ascension (RA or α) \n",
    "\n",
    "- Roughly equivalent to terrestrial longitude. \n",
    "- The units of right ascension are hours, minutes, seconds [hms].\n",
    "- RA = 0h points to the Sun at the March equinox.\n",
    "- 1 hour in RA = 15°, 24 hours in RA = 360°\n",
    "\n",
    "#### Example: RA = 20h 23m 12.12s"
   ]
  },
  {
   "cell_type": "markdown",
   "metadata": {},
   "source": [
    "---\n",
    "\n",
    "### Target - M104 (NGC 4594)\n",
    "\n",
    "- Right ascension: 12h 39m 59.4s\n",
    "- Declination: -11° 37′ 23″"
   ]
  },
  {
   "cell_type": "markdown",
   "metadata": {},
   "source": [
    "## `SkyCoord(Coord, Frame)`\n",
    "\n",
    "In Astropy, the most common way of representing and working with sky coordinates is to use `SkyCoord()`."
   ]
  },
  {
   "cell_type": "code",
   "execution_count": null,
   "metadata": {
    "tags": []
   },
   "outputs": [],
   "source": [
    "target_coords = SkyCoord('12h 39m 59.4s',\n",
    "                         '−11d 37m 23s',\n",
    "                         frame='icrs')\n",
    "target_coords"
   ]
  },
  {
   "cell_type": "code",
   "execution_count": null,
   "metadata": {
    "tags": []
   },
   "outputs": [],
   "source": [
    "target_coords.ra"
   ]
  },
  {
   "cell_type": "code",
   "execution_count": null,
   "metadata": {
    "tags": []
   },
   "outputs": [],
   "source": [
    "target_coords.ra.hour"
   ]
  },
  {
   "cell_type": "code",
   "execution_count": null,
   "metadata": {
    "tags": []
   },
   "outputs": [],
   "source": [
    "target_coords.ra.hms"
   ]
  },
  {
   "cell_type": "code",
   "execution_count": null,
   "metadata": {
    "tags": []
   },
   "outputs": [],
   "source": [
    "target_coords.ra.degree"
   ]
  },
  {
   "cell_type": "code",
   "execution_count": null,
   "metadata": {
    "tags": []
   },
   "outputs": [],
   "source": [
    "target_coords.dec"
   ]
  },
  {
   "cell_type": "code",
   "execution_count": null,
   "metadata": {
    "tags": []
   },
   "outputs": [],
   "source": [
    "target_coords.dec.degree"
   ]
  },
  {
   "cell_type": "code",
   "execution_count": null,
   "metadata": {
    "tags": []
   },
   "outputs": [],
   "source": [
    "target_coords.ra.degree, target_coords.dec.degree"
   ]
  },
  {
   "cell_type": "markdown",
   "metadata": {},
   "source": [
    "### Or you can use `SkyCoord.from_name()` and let [Simbad](https://simbad.u-strasbg.fr/simbad/) do all the work for you."
   ]
  },
  {
   "cell_type": "code",
   "execution_count": null,
   "metadata": {
    "tags": []
   },
   "outputs": [],
   "source": [
    "target_coords = SkyCoord.from_name('M 104')\n",
    "target_coords"
   ]
  },
  {
   "cell_type": "code",
   "execution_count": null,
   "metadata": {
    "tags": []
   },
   "outputs": [],
   "source": [
    "target_coords = SkyCoord.from_name('NGC 4594')\n",
    "target_coords"
   ]
  },
  {
   "cell_type": "code",
   "execution_count": null,
   "metadata": {},
   "outputs": [],
   "source": [
    "target_coords.get_constellation()"
   ]
  },
  {
   "cell_type": "markdown",
   "metadata": {},
   "source": [
    "### Galactic Coordinates"
   ]
  },
  {
   "cell_type": "code",
   "execution_count": null,
   "metadata": {},
   "outputs": [],
   "source": [
    "target_coords.galactic"
   ]
  },
  {
   "cell_type": "code",
   "execution_count": null,
   "metadata": {
    "tags": []
   },
   "outputs": [],
   "source": [
    "target_coords.galactic.l"
   ]
  },
  {
   "cell_type": "code",
   "execution_count": null,
   "metadata": {
    "tags": []
   },
   "outputs": [],
   "source": [
    "target_coords.galactic.b"
   ]
  },
  {
   "cell_type": "markdown",
   "metadata": {},
   "source": [
    "---\n",
    "\n",
    "# Other Stuff"
   ]
  },
  {
   "cell_type": "code",
   "execution_count": null,
   "metadata": {},
   "outputs": [],
   "source": [
    "target_one = SkyCoord.from_name('Sirius A')\n",
    "target_one"
   ]
  },
  {
   "cell_type": "code",
   "execution_count": null,
   "metadata": {},
   "outputs": [],
   "source": [
    "target_two = SkyCoord.from_name('Sirius B')\n",
    "target_two"
   ]
  },
  {
   "cell_type": "code",
   "execution_count": null,
   "metadata": {},
   "outputs": [],
   "source": [
    "target_sep = target_one.separation(target_two)\n",
    "\n",
    "target_sep"
   ]
  },
  {
   "cell_type": "code",
   "execution_count": null,
   "metadata": {},
   "outputs": [],
   "source": [
    "target_sep.degree"
   ]
  },
  {
   "cell_type": "code",
   "execution_count": null,
   "metadata": {},
   "outputs": [],
   "source": [
    "target_sep.radian"
   ]
  },
  {
   "cell_type": "code",
   "execution_count": null,
   "metadata": {},
   "outputs": [],
   "source": [
    "target_sep.arcsecond"
   ]
  },
  {
   "cell_type": "markdown",
   "metadata": {},
   "source": [
    "---"
   ]
  },
  {
   "cell_type": "markdown",
   "metadata": {},
   "source": [
    "# Gaia - Stars in the Future\n",
    "\n",
    "A big part of the Gaia dataset we have not looked at is the data on the motion of stars through space.  \n",
    "\n",
    "<p>\n",
    "    <img src=\"https://uwashington-astro300.github.io/A300_images/ProperMotion.png\" width = \"400\">\n",
    "</p>\n",
    "\n",
    "Proper motion is the measure of the observed changes in the apparent places of stars, as seen from the center of mass of the Solar System, compared to the more distant stars. Knowledge of the proper motion, distance, and radial velocity allows calculations of an object's motion through space.\n",
    "\n",
    "In the `gaia_source_lite` database, the proper motion data is found in the columns:\n",
    "\n",
    "```\n",
    "pmra                        Proper motion in right ascension direction\n",
    "pmdec                       Proper motion in declination direction\n",
    "radial_velocity             Radial velocity\n",
    "```"
   ]
  },
  {
   "cell_type": "code",
   "execution_count": null,
   "metadata": {},
   "outputs": [],
   "source": [
    "moving_star_coords = SkyCoord('17h 57m 48.49847s',\n",
    "                              '+04d 41m 36.1139',\n",
    "                               frame='icrs'\n",
    "                             )\n",
    "moving_star_coords"
   ]
  },
  {
   "cell_type": "code",
   "execution_count": null,
   "metadata": {
    "tags": []
   },
   "outputs": [],
   "source": [
    "my_query = f\"\"\"\n",
    "SELECT TOP 100\n",
    "source_id, ra, dec, parallax, parallax_over_error, pmra, pmdec, radial_velocity\n",
    "FROM gaiadr3.gaia_source_lite\n",
    "WHERE DISTANCE( POINT({moving_star_coords.ra.degree}, {moving_star_coords.dec.degree}), POINT(ra, dec) ) < 0.5\n",
    "AND parallax_over_error > 20\n",
    "AND radial_velocity IS NOT NULL\n",
    "ORDER BY pmra\n",
    "\"\"\""
   ]
  },
  {
   "cell_type": "code",
   "execution_count": null,
   "metadata": {
    "tags": []
   },
   "outputs": [],
   "source": [
    "print(my_query)"
   ]
  },
  {
   "cell_type": "code",
   "execution_count": null,
   "metadata": {
    "tags": []
   },
   "outputs": [],
   "source": [
    "my_job_query = Gaia.launch_job(my_query)"
   ]
  },
  {
   "cell_type": "code",
   "execution_count": null,
   "metadata": {
    "tags": []
   },
   "outputs": [],
   "source": [
    "print(my_job_query)"
   ]
  },
  {
   "cell_type": "code",
   "execution_count": null,
   "metadata": {
    "tags": []
   },
   "outputs": [],
   "source": [
    "target_table = my_job_query.get_results()"
   ]
  },
  {
   "cell_type": "code",
   "execution_count": null,
   "metadata": {
    "tags": []
   },
   "outputs": [],
   "source": [
    "target_table[0:2]"
   ]
  },
  {
   "cell_type": "code",
   "execution_count": null,
   "metadata": {
    "tags": []
   },
   "outputs": [],
   "source": [
    "target_table['Distance'] = target_table['parallax'].to(u.parsec, equivalencies=u.parallax())"
   ]
  },
  {
   "cell_type": "code",
   "execution_count": null,
   "metadata": {
    "tags": []
   },
   "outputs": [],
   "source": [
    "target_table[0:2]"
   ]
  },
  {
   "cell_type": "markdown",
   "metadata": {},
   "source": [
    "### Make a plot of the proper motions"
   ]
  },
  {
   "cell_type": "code",
   "execution_count": null,
   "metadata": {},
   "outputs": [],
   "source": [
    "fig, ax = plt.subplot_mosaic(\n",
    "    '''\n",
    "    ABB\n",
    "    ''',\n",
    "    figsize = (8, 4), \n",
    "    constrained_layout = True\n",
    ")\n",
    "\n",
    "ax['A'].set_xlabel(f'pmra ({target_table[\"pmra\"].unit})')\n",
    "ax['A'].set_ylabel(f'pmdec ({target_table[\"pmdec\"].unit})')\n",
    "\n",
    "ax['A'].scatter(\n",
    "    target_table['pmra'], target_table['pmdec'],\n",
    "    color = 'hotpink',\n",
    "    marker = '*'\n",
    ")\n",
    "\n",
    "ax['B'].hist(target_table['radial_velocity'],\n",
    "           bins = 20,\n",
    "           histtype = 'stepfilled',\n",
    "           facecolor = 'MediumOrchid')\n",
    "\n",
    "ax['B'].set_xlabel('Radial Velocity')\n",
    "ax['B'].set_ylabel('Number');"
   ]
  },
  {
   "cell_type": "markdown",
   "metadata": {},
   "source": [
    "## There is one really fast star!"
   ]
  },
  {
   "cell_type": "markdown",
   "metadata": {},
   "source": [
    "---\n",
    "## What is the speedy star?"
   ]
  },
  {
   "cell_type": "code",
   "execution_count": null,
   "metadata": {},
   "outputs": [],
   "source": [
    "fast_star = target_table[:1]"
   ]
  },
  {
   "cell_type": "code",
   "execution_count": null,
   "metadata": {},
   "outputs": [],
   "source": [
    "fast_star"
   ]
  },
  {
   "cell_type": "code",
   "execution_count": null,
   "metadata": {},
   "outputs": [],
   "source": [
    "from astroquery.simbad import Simbad"
   ]
  },
  {
   "cell_type": "code",
   "execution_count": null,
   "metadata": {},
   "outputs": [],
   "source": [
    "Simbad.query_objectids(f\"Gaia DR3 4472832130942575872\")"
   ]
  },
  {
   "cell_type": "markdown",
   "metadata": {},
   "source": [
    "## This is [Barnard's star](https://en.wikipedia.org/wiki/Barnard%27s_Star)"
   ]
  },
  {
   "cell_type": "markdown",
   "metadata": {},
   "source": [
    "---\n",
    "### With all of the this data, we can create a full 3D-Time coordinate\n",
    "\n",
    "- Since the object is moving we need a `Time()` for the observation"
   ]
  },
  {
   "cell_type": "code",
   "execution_count": null,
   "metadata": {},
   "outputs": [],
   "source": [
    "from astropy.time import Time"
   ]
  },
  {
   "cell_type": "code",
   "execution_count": null,
   "metadata": {},
   "outputs": [],
   "source": [
    "Gaia_obs_time = Time('2022-06-13', format='iso')"
   ]
  },
  {
   "cell_type": "code",
   "execution_count": null,
   "metadata": {},
   "outputs": [],
   "source": [
    "fast_star_coords = SkyCoord(\n",
    "    ra = fast_star['ra'],\n",
    "    dec = fast_star['dec'],\n",
    "    distance = fast_star['Distance'],\n",
    "    pm_ra_cosdec = fast_star['pmra'],\n",
    "    pm_dec = fast_star['pmdec'],\n",
    "    radial_velocity = fast_star['radial_velocity'],\n",
    "    obstime = Gaia_obs_time,\n",
    "    frame = 'icrs')"
   ]
  },
  {
   "cell_type": "code",
   "execution_count": null,
   "metadata": {},
   "outputs": [],
   "source": [
    "fast_star_coords"
   ]
  },
  {
   "cell_type": "markdown",
   "metadata": {},
   "source": [
    "### With full 3D-Time coordinates we can calculate the coordinates at future times\n",
    "\n",
    "- `.apply_space_motion()`"
   ]
  },
  {
   "cell_type": "code",
   "execution_count": null,
   "metadata": {},
   "outputs": [],
   "source": [
    "future_time_one = Time('2122-06-13', format='iso')"
   ]
  },
  {
   "cell_type": "code",
   "execution_count": null,
   "metadata": {},
   "outputs": [],
   "source": [
    "import warnings\n",
    "warnings.simplefilter('ignore', UserWarning)"
   ]
  },
  {
   "cell_type": "code",
   "execution_count": null,
   "metadata": {},
   "outputs": [],
   "source": [
    "future_time_one"
   ]
  },
  {
   "cell_type": "code",
   "execution_count": null,
   "metadata": {},
   "outputs": [],
   "source": [
    "future_time_one_coords = fast_star_coords.apply_space_motion(new_obstime = future_time_one)"
   ]
  },
  {
   "cell_type": "code",
   "execution_count": null,
   "metadata": {},
   "outputs": [],
   "source": [
    "future_time_one_coords"
   ]
  },
  {
   "cell_type": "code",
   "execution_count": null,
   "metadata": {
    "tags": []
   },
   "outputs": [],
   "source": [
    "future_time_two = Time('2222-06-13', format='iso')"
   ]
  },
  {
   "cell_type": "code",
   "execution_count": null,
   "metadata": {},
   "outputs": [],
   "source": [
    "future_time_two_coords = fast_star_coords.apply_space_motion(new_obstime = future_time_two)"
   ]
  },
  {
   "cell_type": "code",
   "execution_count": null,
   "metadata": {},
   "outputs": [],
   "source": [
    "future_time_two_coords"
   ]
  },
  {
   "cell_type": "markdown",
   "metadata": {},
   "source": [
    "## Make a Plot"
   ]
  },
  {
   "cell_type": "code",
   "execution_count": null,
   "metadata": {},
   "outputs": [],
   "source": [
    "fig, ax = plt.subplot_mosaic(\n",
    "    '''\n",
    "    ABB\n",
    "    ''',\n",
    "    figsize = (10, 6), \n",
    "    constrained_layout = True\n",
    ")\n",
    "\n",
    "ax['A'].set_xlim(269,270)\n",
    "ax['A'].set_ylim(4.5,5.5)\n",
    "\n",
    "ax['A'].set_xlabel(f'RA')\n",
    "ax['A'].set_ylabel(f'DEC')\n",
    "\n",
    "#ax['A'].set_xlim(269,270)\n",
    "ax['B'].set_ylim(1.80,1.832)\n",
    "\n",
    "ax['B'].set_xlabel(f'Date (Year)')\n",
    "ax['B'].set_ylabel(f'Distance (lyr)')\n",
    "\n",
    "my_list = [fast_star_coords, future_time_one_coords, future_time_two_coords]\n",
    "my_color = ['Crimson', 'Lime', 'Indigo']\n",
    "\n",
    "for my_index, my_coord in enumerate(my_list):\n",
    "    \n",
    "    ax['A'].plot(my_coord.ra.degree, my_coord.dec.degree,\n",
    "        color = my_color[my_index],\n",
    "        marker = \"*\",\n",
    "        linestyle = \"None\",\n",
    "        markersize = 25\n",
    "    )\n",
    "\n",
    "    ax['B'].plot(my_coord.obstime.decimalyear, my_coord.distance,\n",
    "        color = my_color[my_index],\n",
    "        marker = \"*\",\n",
    "        linestyle = \"None\",\n",
    "        markersize = 25\n",
    "    )"
   ]
  },
  {
   "cell_type": "markdown",
   "metadata": {},
   "source": [
    "---\n",
    "\n",
    "# Moving Targets (solar system targets)\n",
    "\n",
    "- You need a `Time` for observation since everything is moving.\n",
    "- The built-in solar system objects are: `sun`, `mercury`, `venus`, `earth-moon-barycenter`, `earth`, `moon`, `mars`, `jupiter`, `saturn`, `uranus`, `neptune`, `pluto`"
   ]
  },
  {
   "cell_type": "code",
   "execution_count": null,
   "metadata": {
    "collapsed": false,
    "jupyter": {
     "outputs_hidden": false
    },
    "tags": []
   },
   "outputs": [],
   "source": [
    "from astropy.coordinates import get_body\n",
    "from astropy.time import Time"
   ]
  },
  {
   "cell_type": "code",
   "execution_count": null,
   "metadata": {},
   "outputs": [],
   "source": [
    "my_date = Time(\"2025-02-12 21:40\")"
   ]
  },
  {
   "cell_type": "code",
   "execution_count": null,
   "metadata": {
    "collapsed": false,
    "jupyter": {
     "outputs_hidden": false
    },
    "tags": []
   },
   "outputs": [],
   "source": [
    "sun_now = get_body('sun', my_date)\n",
    "\n",
    "sun_now"
   ]
  },
  {
   "cell_type": "code",
   "execution_count": null,
   "metadata": {},
   "outputs": [],
   "source": [
    "sun_now.ra"
   ]
  },
  {
   "cell_type": "code",
   "execution_count": null,
   "metadata": {},
   "outputs": [],
   "source": [
    "sun_now.dec"
   ]
  },
  {
   "cell_type": "code",
   "execution_count": null,
   "metadata": {
    "collapsed": false,
    "jupyter": {
     "outputs_hidden": false
    },
    "tags": []
   },
   "outputs": [],
   "source": [
    "moon_now = get_body('moon', my_date)"
   ]
  },
  {
   "cell_type": "code",
   "execution_count": null,
   "metadata": {
    "tags": []
   },
   "outputs": [],
   "source": [
    "moon_now.ra"
   ]
  },
  {
   "cell_type": "code",
   "execution_count": null,
   "metadata": {},
   "outputs": [],
   "source": [
    "moon_now.dec"
   ]
  },
  {
   "cell_type": "code",
   "execution_count": null,
   "metadata": {
    "collapsed": false,
    "jupyter": {
     "outputs_hidden": false
    },
    "tags": []
   },
   "outputs": [],
   "source": [
    "sun_now.separation(moon_now)"
   ]
  },
  {
   "cell_type": "markdown",
   "metadata": {},
   "source": [
    "---\n",
    "\n",
    "## Palomar Observatory Sky Survey (POSS)\n",
    "\n",
    "The Palomar Observatory Sky Survey (POSS) was a major astronomical survey, that took almost 2,000 photographic plates of the night sky that was completed by the end of 1958. The photographs were taken with the 48-inch Samuel Oschin telescope at Palomar Observatory.\n",
    "\n",
    "<p>\n",
    "    <img src=\"https://uwashington-astro300.github.io/A300_images/HubbleSchmitt.jpg\" width = \"200\">\n",
    "</p>\n",
    "\n",
    "The survey utilized 14-inch square photographic plates, covering about 6° of sky per side. Each region of the sky was photographed twice, once using a red plate, and once with a blue sensitive plate.\n",
    "\n",
    "POSS was mostly completed just proir to the launch of Sputnik 1 on October 4, 1957, meaning the original POSS prints have NO satellite trails on them.\n",
    "\n",
    "The POSS was published as a collection of 1,872 photographic negative prints each measuring 14\" x 14\". The original cost was ~ \\\\$15,000 plus \\\\$1,650 for the transparent coordinate overlays.\n",
    "\n",
    "\n",
    "<p>\n",
    "    <img src=\"https://uwashington-astro300.github.io/A300_images/POSS_1.jpg\" width = \"400\">\n",
    "    <img src=\"https://uwashington-astro300.github.io/A300_images/POSS_2.jpg\" width = \"400\">\n",
    "</p>\n",
    "\n",
    "The [Digitized Sky Survey (DSS)](https://archive.stsci.edu/cgi-bin/dss_form) is a digitized version of the Palomar and UK Schmidt surveys, produced by the Space Telescope Science Institute.\n",
    "\n",
    "- The First Generation DSS (DSS1) was published (on 102 CD-ROMs for \\\\$3,500) in 1994\n",
    "- The Second Generation DSS (DSS2) was published online in 2006"
   ]
  },
  {
   "cell_type": "raw",
   "metadata": {},
   "source": [
    "DSS Filters\n",
    "\n",
    "DSS1 Blue    3950 - 5400 Å\n",
    "DSS1 Red     6125 - 6475 Å\n",
    "DSS2 Blue    3950 - 5400 Å\n",
    "DSS2 Red     6300 - 6900 Å\n",
    "DSS2 IR      6950 - 9000 Å"
   ]
  },
  {
   "cell_type": "markdown",
   "metadata": {
    "tags": []
   },
   "source": [
    "## Pretty Pictures\n",
    "\n",
    "- You can use the `plot_finder_image()` function from the `astroplan` package to get a DSS image of your target object.\n"
   ]
  },
  {
   "cell_type": "code",
   "execution_count": null,
   "metadata": {},
   "outputs": [],
   "source": [
    "target_coords = SkyCoord.from_name('M 104')\n",
    "target_coords"
   ]
  },
  {
   "cell_type": "code",
   "execution_count": null,
   "metadata": {
    "tags": []
   },
   "outputs": [],
   "source": [
    "fig, ax = plt.subplots(\n",
    "    figsize = (6, 6), \n",
    "    constrained_layout = True\n",
    ")\n",
    "\n",
    "ax, hdu = plot_finder_image(\n",
    "    target_coords, \n",
    "    fov_radius= 0.25 * u.deg, \n",
    "    ax = ax,\n",
    "    survey = 'DSS2 Blue'\n",
    ");"
   ]
  },
  {
   "cell_type": "code",
   "execution_count": null,
   "metadata": {
    "tags": []
   },
   "outputs": [],
   "source": [
    "fig, ax = plt.subplots(\n",
    "    figsize = (6, 6), \n",
    "    constrained_layout = True\n",
    ")\n",
    "\n",
    "ax, hdu = plot_finder_image(\n",
    "    target_coords, \n",
    "    fov_radius= 0.5 * u.deg, \n",
    "    ax = ax,\n",
    "    survey = 'DSS2 IR'\n",
    ");"
   ]
  },
  {
   "cell_type": "code",
   "execution_count": null,
   "metadata": {},
   "outputs": [],
   "source": []
  }
 ],
 "metadata": {
  "anaconda-cloud": {},
  "kernelspec": {
   "display_name": "Python 3 (ipykernel)",
   "language": "python",
   "name": "python3"
  },
  "language_info": {
   "codemirror_mode": {
    "name": "ipython",
    "version": 3
   },
   "file_extension": ".py",
   "mimetype": "text/x-python",
   "name": "python",
   "nbconvert_exporter": "python",
   "pygments_lexer": "ipython3",
   "version": "3.10.13"
  }
 },
 "nbformat": 4,
 "nbformat_minor": 4
}
