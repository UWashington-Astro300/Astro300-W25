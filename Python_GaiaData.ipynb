{
 "cells": [
  {
   "cell_type": "markdown",
   "id": "600a35e5-140a-46ef-9864-aafb9c065646",
   "metadata": {},
   "source": [
    "# Gaia Data"
   ]
  },
  {
   "cell_type": "markdown",
   "id": "0d0bcbeb-1f80-43a3-b595-ebe3db9b961a",
   "metadata": {},
   "source": [
    "### On June 13, 2022 the [Gaia project](https://www.cosmos.esa.int/web/gaia/dr3) released is third major data release containg about 1.5 billion sources.\n",
    "\n",
    "- For Astro 300, we will use a subset of the main data source. \n",
    "\n",
    "- This subset is still really large (1906.8 GB), so we will use python to access this data in an efficient manner.\n",
    "\n",
    "- #### The Gaia database we will use is called `gaiadr3.gaia_source_lite`"
   ]
  },
  {
   "cell_type": "code",
   "execution_count": null,
   "id": "5aef951c-0f1c-46cf-874a-b9cc59cb8113",
   "metadata": {},
   "outputs": [],
   "source": [
    "import numpy as np\n",
    "np.set_printoptions(legacy='1.25')\n",
    "\n",
    "from astropy.table import QTable\n",
    "from astroquery.gaia import Gaia"
   ]
  },
  {
   "cell_type": "markdown",
   "id": "b527f934-1d47-406e-9f39-417c204a88d0",
   "metadata": {},
   "source": [
    "---\n",
    "# SQL/ADQL Database query language\n",
    " \n",
    "SQL (Structured Query Language) is a language designed for managing data held in a relational database management systems. SQL has became the most widely used database language.\n",
    "\n",
    "Astronomical Data Query Language (ADQL) is a specialised variant of SQL developed for use with the proliferation of astronomical datasets, and extends the functionality of SQL in an astronomical context.\n",
    "\n",
    "[The Gaia ADQL cookbook](https://www.gaia.ac.uk/data/gaia-data-release-1/adql-cookbook) is a great resource for learning the ADQL syntax.\n"
   ]
  },
  {
   "cell_type": "markdown",
   "id": "c1552f9b-c8cc-4f4c-a066-d9659881d655",
   "metadata": {},
   "source": [
    "## ADQL Query\n",
    "\n",
    "A typical ADQL query has the form:\n",
    "\n",
    "```\n",
    "SELECT \n",
    "{columns}\n",
    "FROM {database}\n",
    "WHERE {conditions}\n",
    "```\n",
    "\n",
    "The ADQL commands are usually ALLCAPS and the other commands are lowercase.\n",
    "\n",
    "There is a real example of a ADQL query to get the columns: `source_id`, `ra`, `dec`, and `parallax` from `gaiadr3.gaia_source_lite` database for all objects where the value of the `parallax` column is greater than 200 mas. The columns will be ordered by decreasing values of `parallax`:\n",
    "\n",
    "```\n",
    "SELECT TOP 10\n",
    "source_id, ra, dec, parallax\n",
    "FROM gaiadr3.gaia_source_lite\n",
    "WHERE parallax > 200.0\n",
    "ORDER BY parallax DESC\n",
    "```\n",
    "\n",
    "#### It is really good to add `TOP 10` to the `SELECT` when you first do a query, so you do not drop millions of lines into your notebook!"
   ]
  },
  {
   "cell_type": "markdown",
   "id": "74c1c6a9-f5ac-41fd-8fa0-8c67b49612d0",
   "metadata": {},
   "source": [
    "---\n",
    "## Let's get some data\n",
    "\n",
    "- First we create the query string as a doc-string"
   ]
  },
  {
   "cell_type": "code",
   "execution_count": null,
   "id": "9f7ae8ae-f114-4d69-b2a3-063fdfdf96be",
   "metadata": {},
   "outputs": [],
   "source": [
    "query_one = \"\"\"\n",
    "SELECT TOP 100\n",
    "source_id, ra, dec, parallax\n",
    "FROM gaiadr3.gaia_source_lite\n",
    "WHERE parallax > 200\n",
    "ORDER BY parallax DESC\n",
    "\"\"\""
   ]
  },
  {
   "cell_type": "code",
   "execution_count": null,
   "id": "17f947de-d655-4f28-baca-1f9d87242f7f",
   "metadata": {},
   "outputs": [],
   "source": [
    "print(query_one)"
   ]
  },
  {
   "cell_type": "markdown",
   "id": "9aa88522-ae76-4865-8730-55cbc201e7a5",
   "metadata": {},
   "source": [
    "## Submit our query to the Gaia archive server"
   ]
  },
  {
   "cell_type": "code",
   "execution_count": null,
   "id": "d091128d-26e5-4292-b507-64f0a2d02f4d",
   "metadata": {},
   "outputs": [],
   "source": [
    "my_job_query = Gaia.launch_job(query_one)"
   ]
  },
  {
   "cell_type": "markdown",
   "id": "644faaac-162e-457b-8388-3ba0c9359d86",
   "metadata": {},
   "source": [
    "### Check the status of the job"
   ]
  },
  {
   "cell_type": "code",
   "execution_count": null,
   "id": "829f6e71-25ea-428a-b9d4-c897a1177025",
   "metadata": {},
   "outputs": [],
   "source": [
    "print(my_job_query)"
   ]
  },
  {
   "cell_type": "markdown",
   "id": "80d19ad9-a6e2-48a1-8cd5-6facf6677fb1",
   "metadata": {},
   "source": [
    "### Looks good so get the results\n",
    "\n",
    "- The results will be a nice astropy Qtable"
   ]
  },
  {
   "cell_type": "code",
   "execution_count": null,
   "id": "0f7c844d-1b1a-48d0-ac2d-7203d6fccf0f",
   "metadata": {},
   "outputs": [],
   "source": [
    "my_parallax_table = my_job_query.get_results()"
   ]
  },
  {
   "cell_type": "code",
   "execution_count": null,
   "id": "51243540-141c-49b0-8013-9adf89b0de69",
   "metadata": {},
   "outputs": [],
   "source": [
    "my_parallax_table"
   ]
  },
  {
   "cell_type": "markdown",
   "id": "a59bb9d6-48a7-4bc9-bd8c-d74178074362",
   "metadata": {},
   "source": [
    "---\n",
    "\n",
    "# Getting data from a specific piece of the sky\n",
    "\n",
    "### A very common search is to find objects within a certain angular distance from a point on the sky\n",
    "\n",
    "<img src=\"https://uwashington-astro300.github.io/A300_images/Orion_Circle.png\" width=\"400\"/>\n",
    "\n",
    "\n",
    "- The command `POINT(RA(deg), DEC(deg))` specifies a point on the celestial sphere.\n",
    "\n",
    "- The command `DISTANCE(point1, point2)` computes the spherical angular distance between two points."
   ]
  },
  {
   "cell_type": "markdown",
   "id": "0892efb6-13cf-40a9-ac91-dfeac5592810",
   "metadata": {},
   "source": [
    "#### Here is a query to find all Gaia objects\n",
    "\n",
    "- Within 0.5 degrees of RA = 90.0 deg, Dec = 10.0 deg \n",
    "- Brighter than 10th mag\n",
    "- Have color (BP-RP) data.\n",
    "\n",
    "```\n",
    "SELECT TOP 100\n",
    "source_id, ra, dec, phot_g_mean_mag, bp_rp\n",
    "FROM gaiadr3.gaia_source_lite\n",
    "WHERE DISTANCE( POINT(90.0, 10.0), POINT(ra, dec) ) < 0.5\n",
    "AND phot_g_mean_mag < 10.0\n",
    "AND bp_rp IS NOT NULL\n",
    "ORDER BY bp_rp ASC\n",
    "```"
   ]
  },
  {
   "cell_type": "markdown",
   "id": "056ea3a5-a750-4d5c-8b69-4a54dc231733",
   "metadata": {},
   "source": [
    "- #### Extra `conditions` can be added with the `AND` command\n",
    "- #### The `IS NOT NULL` command is very useful for ignoring rows with no data"
   ]
  },
  {
   "cell_type": "code",
   "execution_count": null,
   "id": "cf6f68fb-ad4b-4b3c-adb5-64e77754dfe8",
   "metadata": {},
   "outputs": [],
   "source": [
    "query_circle = \"\"\"\n",
    "SELECT TOP 100\n",
    "source_id, ra, dec, phot_g_mean_mag, bp_rp\n",
    "FROM gaiadr3.gaia_source_lite\n",
    "WHERE DISTANCE( POINT(90.0, 10.0), POINT(ra, dec) ) < 0.5\n",
    "AND phot_g_mean_mag < 10.0\n",
    "AND bp_rp IS NOT NULL\n",
    "ORDER BY bp_rp ASC\n",
    "\"\"\""
   ]
  },
  {
   "cell_type": "code",
   "execution_count": null,
   "id": "d1948991-bec1-443f-b5aa-b4b5a7e8457a",
   "metadata": {
    "tags": []
   },
   "outputs": [],
   "source": [
    "my_job_query = Gaia.launch_job(query_circle)"
   ]
  },
  {
   "cell_type": "code",
   "execution_count": null,
   "id": "dd73d0f7-c651-408f-96d7-b7f9e9145db6",
   "metadata": {
    "tags": []
   },
   "outputs": [],
   "source": [
    "my_circle_table = my_job_query.get_results()"
   ]
  },
  {
   "cell_type": "code",
   "execution_count": null,
   "id": "24d04abc-3094-43e8-8a94-86f8fe745ad2",
   "metadata": {
    "tags": []
   },
   "outputs": [],
   "source": [
    "my_circle_table"
   ]
  },
  {
   "cell_type": "markdown",
   "id": "d144f97c-fe15-4c96-bb18-c00a21f18d94",
   "metadata": {},
   "source": [
    "### Another common search is to find objects within a certain region bound by sets of `RA(deg)` and `DEC(deg)` coordinates\n",
    "\n",
    "<img src=\"https://uwashington-astro300.github.io/A300_images/Orion_Square.png\" width=\"400\"/>\n"
   ]
  },
  {
   "cell_type": "markdown",
   "id": "b4005407-cbe4-4119-80ba-475b189f988f",
   "metadata": {},
   "source": [
    "#### Here is a query to find all Gaia objects\n",
    "\n",
    "- Within 0.5 degrees of RA = 90.0 deg, Dec = 10.0 deg \n",
    "- Brighter than 12th mag\n",
    "- Have color (BP-RP) data.\n",
    "\n",
    "```\n",
    "SELECT TOP 300\n",
    "source_id, ra, dec, phot_g_mean_mag, bp_rp\n",
    "FROM gaiadr3.gaia_source_lite\n",
    "WHERE ra BETWEEN 89.0 AND 90.0\n",
    "AND dec BETWEEN 8.0 AND 10.0 \n",
    "AND phot_g_mean_mag < 12.0\n",
    "AND bp_rp IS NOT NULL\n",
    "ORDER BY bp_rp ASC\n",
    "```"
   ]
  },
  {
   "cell_type": "markdown",
   "id": "a43ff36b-ad16-4ccd-8fcc-95df78b33d4f",
   "metadata": {},
   "source": [
    "- #### The `BETWEEN` command is very useful for these sorts of searches"
   ]
  },
  {
   "cell_type": "code",
   "execution_count": null,
   "id": "26fd1770-c13b-4767-84dc-c7212654deab",
   "metadata": {
    "tags": []
   },
   "outputs": [],
   "source": [
    "query_square = \"\"\"\n",
    "SELECT TOP 300\n",
    "source_id, ra, dec, phot_g_mean_mag, bp_rp\n",
    "FROM gaiadr3.gaia_source_lite\n",
    "WHERE ra BETWEEN 89.0 AND 90.0\n",
    "AND dec BETWEEN 8.0 AND 10.0 \n",
    "AND phot_g_mean_mag < 12.0\n",
    "AND bp_rp IS NOT NULL\n",
    "ORDER BY bp_rp ASC\n",
    "\"\"\""
   ]
  },
  {
   "cell_type": "code",
   "execution_count": null,
   "id": "03674791-0055-4ff9-aae7-f5f8452e2c35",
   "metadata": {
    "tags": []
   },
   "outputs": [],
   "source": [
    "my_job_query = Gaia.launch_job(query_square)"
   ]
  },
  {
   "cell_type": "code",
   "execution_count": null,
   "id": "99a952ca-0a17-4450-b912-dd7f73413a6b",
   "metadata": {
    "tags": []
   },
   "outputs": [],
   "source": [
    "my_square_table = my_job_query.get_results()"
   ]
  },
  {
   "cell_type": "code",
   "execution_count": null,
   "id": "d6982c5f-f078-4ba9-b975-8354db90d408",
   "metadata": {
    "tags": []
   },
   "outputs": [],
   "source": [
    "my_square_table"
   ]
  },
  {
   "cell_type": "code",
   "execution_count": null,
   "id": "3940adca-61b3-44c8-b998-aaee0a9bc4be",
   "metadata": {
    "scrolled": true,
    "tags": []
   },
   "outputs": [],
   "source": [
    "my_square_table.show_in_notebook()"
   ]
  },
  {
   "cell_type": "markdown",
   "id": "0ef5303f-2b34-4e0d-b889-0f14dec27938",
   "metadata": {},
   "source": [
    "### The `BETWEEN` command is general. It can be used for more than just coordinates.\n",
    "\n",
    "The image below is the color-magnitude diagram of all the stars from the Gaia observations. Notice that stellar types can be defined by the `BP-RP` color index. For example, [A-stars](https://en.wikipedia.org/wiki/A-type_main-sequence_star) have a `BP-RP` index between about -0.1 and 0.3.\n",
    "\n",
    "\n",
    "<img src=\"https://uwashington-astro300.github.io/A300_images/Gaia_CMD_BW.png\" width=\"400\"/>\n",
    "\n",
    "We can add the color-cut `bp_rp BETWEEN -0.1 AND 0.3` to only get data for A-stars."
   ]
  },
  {
   "cell_type": "code",
   "execution_count": null,
   "id": "bea6d96e-ef63-4153-b3b8-926cfb54ba56",
   "metadata": {},
   "outputs": [],
   "source": [
    "query_color = \"\"\"\n",
    "SELECT TOP 300\n",
    "source_id, ra, dec, phot_g_mean_mag, bp_rp\n",
    "FROM gaiadr3.gaia_source_lite\n",
    "WHERE ra BETWEEN 89.0 AND 90.0\n",
    "AND dec BETWEEN 8.0 AND 10.0 \n",
    "AND phot_g_mean_mag < 12.0\n",
    "AND bp_rp BETWEEN -0.1 AND 0.3\n",
    "ORDER BY bp_rp ASC\n",
    "\"\"\""
   ]
  },
  {
   "cell_type": "code",
   "execution_count": null,
   "id": "ce0eb74f-5339-459c-9c07-3342f1ec2b65",
   "metadata": {
    "tags": []
   },
   "outputs": [],
   "source": [
    "my_job_query = Gaia.launch_job(query_color)"
   ]
  },
  {
   "cell_type": "code",
   "execution_count": null,
   "id": "474edd41-5373-4d9d-830c-9adff24619d2",
   "metadata": {
    "tags": []
   },
   "outputs": [],
   "source": [
    "my_color_table = my_job_query.get_results()"
   ]
  },
  {
   "cell_type": "code",
   "execution_count": null,
   "id": "75edd53a-4eb7-40a6-b029-1a00de1f61e9",
   "metadata": {
    "tags": []
   },
   "outputs": [],
   "source": [
    "my_color_table"
   ]
  },
  {
   "cell_type": "markdown",
   "id": "14b6d6c3-acb6-4030-9a93-25ddfcabef9e",
   "metadata": {},
   "source": [
    "---\n",
    "\n",
    "## ADQL querys can get SUPER complicated! - I have shown you the merest baby steps. \n",
    "\n",
    "## If you want to see how the pros work, check out the [Gaia ADQL Guide](https://www.cosmos.esa.int/web/gaia-users/archive/writing-queries)"
   ]
  }
 ],
 "metadata": {
  "kernelspec": {
   "display_name": "Python 3 (ipykernel)",
   "language": "python",
   "name": "python3"
  },
  "language_info": {
   "codemirror_mode": {
    "name": "ipython",
    "version": 3
   },
   "file_extension": ".py",
   "mimetype": "text/x-python",
   "name": "python",
   "nbconvert_exporter": "python",
   "pygments_lexer": "ipython3",
   "version": "3.11.9"
  }
 },
 "nbformat": 4,
 "nbformat_minor": 5
}
