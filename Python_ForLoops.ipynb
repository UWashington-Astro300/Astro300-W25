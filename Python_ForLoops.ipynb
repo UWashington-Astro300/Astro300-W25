{
 "cells": [
  {
   "cell_type": "markdown",
   "id": "a488a6b2-06de-4413-85be-724396a1f459",
   "metadata": {
    "tags": []
   },
   "source": [
    "# For Loops\n",
    "\n",
    " - `For` loops are different in python.\n",
    " - `For` loops are python's way of looping over iterables.\n",
    "    - An iterable is an object that contains a countable number of values.\n",
    "    - Lists and arrays are iterable.\n",
    "\n",
    "You do not need to specify the beginning and end values of the loop\n",
    "\n",
    "```\n",
    "for OUTPUT_VARS in Iterable:\n",
    "    stuff\n",
    "```"
   ]
  },
  {
   "cell_type": "code",
   "execution_count": null,
   "id": "7751dd6a-1a26-4291-b467-096abd3d740d",
   "metadata": {},
   "outputs": [],
   "source": [
    "import numpy as np\n",
    "np.set_printoptions(legacy='1.25')"
   ]
  },
  {
   "cell_type": "code",
   "execution_count": null,
   "id": "aa0a7ba8-eb66-407f-8a2b-b6c489155810",
   "metadata": {
    "collapsed": false,
    "jupyter": {
     "outputs_hidden": false
    }
   },
   "outputs": [],
   "source": [
    "my_array = np.array([7, 4, 8, 5, 7, 3])\n",
    "my_array"
   ]
  },
  {
   "cell_type": "code",
   "execution_count": null,
   "id": "362cf115-1125-41ad-b7d9-e622b3d674b9",
   "metadata": {
    "collapsed": false,
    "jupyter": {
     "outputs_hidden": false
    }
   },
   "outputs": [],
   "source": [
    "for my_value in my_array:\n",
    "    print(my_value)"
   ]
  },
  {
   "cell_type": "markdown",
   "id": "de8a5dfd-b8ec-4786-a407-483301d4bb51",
   "metadata": {},
   "source": [
    " ### `enumerate()` is a built-in function gives you back two loop variables\n",
    " \n",
    " - The **index** of the current iteration\n",
    " - The **value** of the item at the current **index**"
   ]
  },
  {
   "cell_type": "code",
   "execution_count": null,
   "id": "53266c52-2187-4758-999f-305fe8d1f710",
   "metadata": {
    "collapsed": false,
    "jupyter": {
     "outputs_hidden": false
    }
   },
   "outputs": [],
   "source": [
    "for my_index, my_value in enumerate(my_array):\n",
    "    print(my_index, my_value)"
   ]
  },
  {
   "cell_type": "code",
   "execution_count": null,
   "id": "5eafe7dc-a480-4c87-ae72-12a8fa6dc93e",
   "metadata": {
    "collapsed": false,
    "jupyter": {
     "outputs_hidden": false
    }
   },
   "outputs": [],
   "source": [
    "for george, ringo in enumerate(my_array):\n",
    "    print(george, ringo)"
   ]
  },
  {
   "cell_type": "markdown",
   "id": "362eb13e-7095-4aa0-b5fa-3a6e11a44913",
   "metadata": {},
   "source": [
    "---\n",
    "<img style=\"float: left;\" src=\"https://uwashington-astro300.github.io/A300_images/ForLoop.jpg\" width=\"500\"/>\n"
   ]
  },
  {
   "cell_type": "markdown",
   "id": "8977591d-21ff-4670-9831-8bfcf7deab01",
   "metadata": {},
   "source": [
    "---\n",
    "\n",
    "## For Loops are slow in Python."
   ]
  },
  {
   "cell_type": "code",
   "execution_count": null,
   "id": "0919dd49-49fd-4ae9-b719-467f0e81d316",
   "metadata": {
    "collapsed": false,
    "jupyter": {
     "outputs_hidden": false
    },
    "tags": []
   },
   "outputs": [],
   "source": [
    "np.random.seed(42)\n",
    "big_array = np.random.random(10000)    # 10,000 value array\n",
    "\n",
    "np.size(big_array)"
   ]
  },
  {
   "cell_type": "code",
   "execution_count": null,
   "id": "39d92ced-90a4-4893-af5b-3216233d83e0",
   "metadata": {
    "tags": []
   },
   "outputs": [],
   "source": [
    "big_array[:50]"
   ]
  },
  {
   "cell_type": "code",
   "execution_count": null,
   "id": "0af14c72-e498-4ad3-beac-1c665f7eb2e0",
   "metadata": {
    "collapsed": false,
    "jupyter": {
     "outputs_hidden": false
    },
    "tags": []
   },
   "outputs": [],
   "source": [
    "# This is slow!\n",
    "\n",
    "for my_index,my_value in enumerate(big_array):\n",
    "    if (my_value > 0.5):\n",
    "        big_array[my_index] = 0\n",
    "\n",
    "big_array[:50]"
   ]
  },
  {
   "cell_type": "code",
   "execution_count": null,
   "id": "5f66e0f8-05f1-456c-ad2a-65f38ce9d7dc",
   "metadata": {
    "tags": []
   },
   "outputs": [],
   "source": [
    "np.random.seed(42)\n",
    "big_array = np.random.random(10000)    # 10,000 value array"
   ]
  },
  {
   "cell_type": "code",
   "execution_count": null,
   "id": "aa6d9004-24a5-4225-8505-5e7704520fea",
   "metadata": {
    "collapsed": false,
    "jupyter": {
     "outputs_hidden": false
    },
    "tags": []
   },
   "outputs": [],
   "source": [
    "%%timeit\n",
    "\n",
    "for my_index,my_value in enumerate(big_array):\n",
    "    if (my_value > 0.5):\n",
    "        big_array[my_index] = 0"
   ]
  },
  {
   "cell_type": "markdown",
   "id": "d995ea77-abdd-4296-96a7-29f0ab4b92d7",
   "metadata": {
    "editable": true,
    "slideshow": {
     "slide_type": ""
    },
    "tags": []
   },
   "source": [
    "## Speed - Filtered Arrays are very fast in Python."
   ]
  },
  {
   "cell_type": "code",
   "execution_count": null,
   "id": "3bcbd2d9-3b89-4f32-a6ea-9a85a260021e",
   "metadata": {
    "tags": []
   },
   "outputs": [],
   "source": [
    "np.random.seed(42)\n",
    "big_array = np.random.random(10000)    # 10,000 value array"
   ]
  },
  {
   "cell_type": "code",
   "execution_count": null,
   "id": "479ec43f-aca5-4467-8028-32cf3339c292",
   "metadata": {
    "collapsed": false,
    "jupyter": {
     "outputs_hidden": false
    },
    "tags": []
   },
   "outputs": [],
   "source": [
    "# This is MUCH faster\n",
    "\n",
    "big_array[big_array > 0.5] = 0\n",
    "\n",
    "big_array[:50]"
   ]
  },
  {
   "cell_type": "code",
   "execution_count": null,
   "id": "b420870e-72d6-4892-8741-9c442c6d2a16",
   "metadata": {
    "tags": []
   },
   "outputs": [],
   "source": [
    "np.random.seed(42)\n",
    "big_array = np.random.random(10000)    # 10,000 value array"
   ]
  },
  {
   "cell_type": "code",
   "execution_count": null,
   "id": "ae08eff9-11d9-49e6-8893-ead978be6b7e",
   "metadata": {
    "collapsed": false,
    "jupyter": {
     "outputs_hidden": false
    },
    "tags": []
   },
   "outputs": [],
   "source": [
    "%%timeit -o\n",
    "\n",
    "big_array[big_array > 0.5] = 0"
   ]
  },
  {
   "cell_type": "markdown",
   "id": "b4b584f5-ebce-472f-bc1f-0738bd28e963",
   "metadata": {},
   "source": [
    "---"
   ]
  },
  {
   "cell_type": "code",
   "execution_count": null,
   "id": "5a218334-1d65-4b9c-bd12-a9226fdc4470",
   "metadata": {
    "tags": []
   },
   "outputs": [],
   "source": [
    "for_loop_time = 795e-6\n",
    "mask_time = 3.07e-6"
   ]
  },
  {
   "cell_type": "code",
   "execution_count": null,
   "id": "0601a3c1-1027-4a13-b9e6-5a1423cba74b",
   "metadata": {
    "tags": []
   },
   "outputs": [],
   "source": [
    "print(f\"The filtered array is {for_loop_time / mask_time:.1f} times faster than the for-loop\")"
   ]
  },
  {
   "cell_type": "markdown",
   "id": "18584831-b9a8-4542-8ebf-b8b06e7cafd8",
   "metadata": {},
   "source": [
    "## 1,000,000 particles"
   ]
  },
  {
   "cell_type": "code",
   "execution_count": null,
   "id": "419e3e7b-ac9c-44fc-89c5-c57188666fd5",
   "metadata": {
    "tags": []
   },
   "outputs": [],
   "source": [
    "print(f\"The for-loop will take {1e6 * for_loop_time / 60} minutes to run\")"
   ]
  },
  {
   "cell_type": "code",
   "execution_count": null,
   "id": "baf55a33-6b45-4228-bb6a-101540b965fa",
   "metadata": {
    "tags": []
   },
   "outputs": [],
   "source": [
    "print(f\"The for filtered array will take {1e6 * mask_time} seconds to run\")"
   ]
  },
  {
   "cell_type": "code",
   "execution_count": null,
   "id": "a08c4037-a386-420e-b714-adc3736b896a",
   "metadata": {},
   "outputs": [],
   "source": []
  }
 ],
 "metadata": {
  "kernelspec": {
   "display_name": "Python 3 (ipykernel)",
   "language": "python",
   "name": "python3"
  },
  "language_info": {
   "codemirror_mode": {
    "name": "ipython",
    "version": 3
   },
   "file_extension": ".py",
   "mimetype": "text/x-python",
   "name": "python",
   "nbconvert_exporter": "python",
   "pygments_lexer": "ipython3",
   "version": "3.11.9"
  }
 },
 "nbformat": 4,
 "nbformat_minor": 5
}
