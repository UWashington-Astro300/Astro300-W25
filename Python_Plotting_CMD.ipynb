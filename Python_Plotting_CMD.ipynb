{
 "cells": [
  {
   "cell_type": "markdown",
   "metadata": {},
   "source": [
    "# Annotating plots - Gaia - CMD"
   ]
  },
  {
   "cell_type": "code",
   "execution_count": null,
   "metadata": {
    "collapsed": false,
    "jupyter": {
     "outputs_hidden": false
    }
   },
   "outputs": [],
   "source": [
    "import matplotlib.pyplot as plt\n",
    "import numpy as np\n",
    "np.set_printoptions(legacy='1.25')\n",
    "\n",
    "from matplotlib.patches import Rectangle, Circle, Ellipse, Polygon\n",
    "\n",
    "from astropy.table import QTable\n",
    "from astropy import units as u\n",
    "from astroquery.gaia import Gaia"
   ]
  },
  {
   "cell_type": "markdown",
   "metadata": {},
   "source": [
    "### NGC 2682 (M 67) is a very well studied open star cluster in the northern skies\n",
    "\n",
    "&nbsp;\n",
    "\n",
    "<p>\n",
    "<img src=\"https://uwashington-astro300.github.io/A300_images/M67.jpg\" width = \"500\">\n",
    "</p>\n",
    "\n",
    "\n",
    "- Right ascension: 08h 51.3m (132.825 deg)\n",
    "- Declination: +11° 49′ (11.817 deg)"
   ]
  },
  {
   "cell_type": "code",
   "execution_count": null,
   "metadata": {},
   "outputs": [],
   "source": [
    "my_object_ra = 132.825\n",
    "my_object_dec = 11.817"
   ]
  },
  {
   "cell_type": "markdown",
   "metadata": {},
   "source": [
    "---\n",
    "\n",
    "## Gaia query for 10σ data for our target\n",
    "\n",
    "- Note the use of `f-string` and variables in the query\n",
    "- Gaia wants the object coordinates in degrees"
   ]
  },
  {
   "cell_type": "code",
   "execution_count": null,
   "metadata": {
    "tags": []
   },
   "outputs": [],
   "source": [
    "my_query = f\"\"\"\n",
    "SELECT TOP 1500\n",
    "source_id, ra, dec, phot_g_mean_mag, bp_rp, parallax, parallax_over_error\n",
    "FROM gaiadr3.gaia_source_lite\n",
    "WHERE DISTANCE( POINT({my_object_ra}, {my_object_dec}), POINT(ra, dec) ) < 0.40\n",
    "AND parallax_over_error > 10\n",
    "AND bp_rp IS NOT NULL\n",
    "ORDER BY parallax DESC\n",
    "\"\"\""
   ]
  },
  {
   "cell_type": "code",
   "execution_count": null,
   "metadata": {},
   "outputs": [],
   "source": [
    "print(my_query)"
   ]
  },
  {
   "cell_type": "code",
   "execution_count": null,
   "metadata": {},
   "outputs": [],
   "source": [
    "my_job_query = Gaia.launch_job(my_query)"
   ]
  },
  {
   "cell_type": "code",
   "execution_count": null,
   "metadata": {},
   "outputs": [],
   "source": [
    "print(my_job_query)"
   ]
  },
  {
   "cell_type": "markdown",
   "metadata": {},
   "source": [
    "### Query returned 1399 objects. Less than the `SELECT` limit of 1500, so I am not cutting off objects"
   ]
  },
  {
   "cell_type": "code",
   "execution_count": null,
   "metadata": {},
   "outputs": [],
   "source": [
    "my_table = my_job_query.get_results()"
   ]
  },
  {
   "cell_type": "code",
   "execution_count": null,
   "metadata": {},
   "outputs": [],
   "source": [
    "my_table[0:2]"
   ]
  },
  {
   "cell_type": "markdown",
   "metadata": {},
   "source": [
    "### Use `parallax` and `phot_g_mean_mag` to get **distance** and **absolute magnitude**\n",
    "\n",
    "- Add then as columns to the data table"
   ]
  },
  {
   "cell_type": "code",
   "execution_count": null,
   "metadata": {},
   "outputs": [],
   "source": [
    "my_table['distance'] = my_table['parallax'].to(u.parsec, equivalencies=u.parallax())"
   ]
  },
  {
   "cell_type": "code",
   "execution_count": null,
   "metadata": {},
   "outputs": [],
   "source": [
    "my_table[0:2]"
   ]
  },
  {
   "cell_type": "code",
   "execution_count": null,
   "metadata": {},
   "outputs": [],
   "source": [
    "def find_absmag(my_gmag, my_distance):\n",
    "    result = my_gmag - 5 * np.log10( my_distance / (10 * u.parsec)) * u.mag\n",
    "    return result"
   ]
  },
  {
   "cell_type": "code",
   "execution_count": null,
   "metadata": {},
   "outputs": [],
   "source": [
    "my_table['abs_g'] = find_absmag(my_table['phot_g_mean_mag'], my_table['distance']) * u.mag"
   ]
  },
  {
   "cell_type": "code",
   "execution_count": null,
   "metadata": {},
   "outputs": [],
   "source": [
    "my_table[0:2]"
   ]
  },
  {
   "cell_type": "markdown",
   "metadata": {},
   "source": [
    "## Plot a histogram of the distances\n",
    "\n",
    "- All the stars in the cluster should have the same distance\n",
    "- Objects not in the cluster will have different distances"
   ]
  },
  {
   "cell_type": "code",
   "execution_count": null,
   "metadata": {},
   "outputs": [],
   "source": [
    "fig, ax = plt.subplot_mosaic(\n",
    "    '''\n",
    "    AB\n",
    "    ''',\n",
    "    figsize = (12, 4), \n",
    "    constrained_layout = True\n",
    ")\n",
    "\n",
    "ax['A'].set_xlabel(\"Distance (pc)\")\n",
    "ax['A'].set_ylabel(\"Number\")\n",
    "\n",
    "ax['A'].hist(my_table['distance'],\n",
    "        bins = 100,\n",
    "        histtype = 'stepfilled',\n",
    "        facecolor = 'MediumOrchid')\n",
    "\n",
    "ax['B'].set_xlim(500, 1250)\n",
    "\n",
    "ax['B'].set_xlabel(\"Distance (pc)\")\n",
    "ax['B'].set_ylabel(\"Number\")\n",
    "\n",
    "ax['B'].hist(my_table['distance'],\n",
    "        bins = 100,\n",
    "        histtype = 'stepfilled',\n",
    "        facecolor = 'MediumOrchid');"
   ]
  },
  {
   "cell_type": "markdown",
   "metadata": {},
   "source": [
    "## Pretty easy to see the cluster's distance\n",
    "\n",
    "- We will use distances between 750 pc and 1000 pc for cluster stars\n",
    "- The cluster distance from the literature is 800 - 900 pc, so these values seems fine."
   ]
  },
  {
   "cell_type": "code",
   "execution_count": null,
   "metadata": {},
   "outputs": [],
   "source": [
    "my_cluster_table = my_table[(my_table['distance'] > 750) &\n",
    "                            (my_table['distance'] < 1000)\n",
    "                           ]"
   ]
  },
  {
   "cell_type": "code",
   "execution_count": null,
   "metadata": {},
   "outputs": [],
   "source": [
    "np.size(my_cluster_table)"
   ]
  },
  {
   "cell_type": "code",
   "execution_count": null,
   "metadata": {},
   "outputs": [],
   "source": [
    "np.size(my_cluster_table) / np.size(my_table)"
   ]
  },
  {
   "cell_type": "markdown",
   "metadata": {},
   "source": [
    "## Make a color magnitude diagram (CMD) of the object\n",
    "\n",
    "\n",
    "Color Magnitude Diagram (CMD) is a plot of Color Index vs. Magnitude. This is just a HR-diagram with a change of units.\n",
    "\n",
    "Some things we have to keep in mind when making a CMD\n",
    "\n",
    "- Color Index (X-axis) cover a very small range of values, we will need to adjust our axes accordingly.\n",
    "- Magnitudes (Y-axis) are backwards, we will need to adjust our axes accordingly."
   ]
  },
  {
   "cell_type": "markdown",
   "metadata": {},
   "source": [
    "#### `np.ptp()` returns the range of values (max - min) for an array (*P*eak *T*o *P*eak)"
   ]
  },
  {
   "cell_type": "code",
   "execution_count": null,
   "metadata": {},
   "outputs": [],
   "source": [
    "np.ptp(my_cluster_table['bp_rp'])"
   ]
  },
  {
   "cell_type": "code",
   "execution_count": null,
   "metadata": {},
   "outputs": [],
   "source": [
    "np.ptp(my_cluster_table['abs_g'])"
   ]
  },
  {
   "cell_type": "markdown",
   "metadata": {},
   "source": [
    "#### You can see the range of the x-axis is small compared to the range of the Y-axis. This can lead to long narrow plot.\n",
    "\n",
    "- We can use the `ax.set_aspect(aspect_ratio)` command to deal with this.\n",
    "- Where the `aspect_ratio` what you need to multiply the Y range by to get the X range.\n",
    "- In this case 9.8 / 5 ~ 2, so `aspect_ratio` = 1/5"
   ]
  },
  {
   "cell_type": "code",
   "execution_count": null,
   "metadata": {},
   "outputs": [],
   "source": [
    "fig, ax = plt.subplots(\n",
    "    figsize = (15, 15), \n",
    "    constrained_layout = True\n",
    ")\n",
    "\n",
    "ax.set_aspect(1 / 5)\n",
    "\n",
    "# Magnitudes are backwards\n",
    "\n",
    "ax.set_ylim(-2.5,10)\n",
    "ax.invert_yaxis()\n",
    "\n",
    "ax.tick_params(axis='both', which='major', labelsize = 18)\n",
    "\n",
    "###\n",
    "\n",
    "ax.set_xlabel(\"BP - RP\",\n",
    "              fontfamily = 'serif',\n",
    "              fontsize = 25)\n",
    "\n",
    "ax.set_ylabel(\"G_Mag\",\n",
    "              fontfamily = 'serif',\n",
    "              fontsize = 25)\n",
    "\n",
    "ax.set_title(\"M67 CMD\",\n",
    "             fontfamily = 'serif',\n",
    "             fontsize = 30)\n",
    "\n",
    "### Plot Data ###\n",
    "\n",
    "ax.plot(my_cluster_table['bp_rp'], my_cluster_table['abs_g'],\n",
    "        color = \"#4C0B5F\",\n",
    "        marker = \"o\",\n",
    "        linestyle = \"None\",\n",
    "        markersize = 5\n",
    "       );"
   ]
  },
  {
   "cell_type": "code",
   "execution_count": null,
   "metadata": {},
   "outputs": [],
   "source": []
  }
 ],
 "metadata": {
  "anaconda-cloud": {},
  "kernelspec": {
   "display_name": "Python 3 (ipykernel)",
   "language": "python",
   "name": "python3"
  },
  "language_info": {
   "codemirror_mode": {
    "name": "ipython",
    "version": 3
   },
   "file_extension": ".py",
   "mimetype": "text/x-python",
   "name": "python",
   "nbconvert_exporter": "python",
   "pygments_lexer": "ipython3",
   "version": "3.11.9"
  }
 },
 "nbformat": 4,
 "nbformat_minor": 4
}
